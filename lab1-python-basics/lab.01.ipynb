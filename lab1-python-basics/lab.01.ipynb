{
 "cells": [
  {
   "cell_type": "markdown",
   "metadata": {},
   "source": [
    "## Лабораторная работа 1. Знакомство с библиотеками для анализа данных\n",
    "\n",
    "Результат лабораторной работы − отчет. Мы предпочитаем принимать отчеты в формате ноутбуков IPython (ipynb-файл). Постарайтесь сделать ваш отчет интересным рассказом, последовательно отвечающим на вопросы из заданий. Помимо ответов на вопросы, в отчете так же должен быть код, однако чем меньше кода, тем лучше всем: нам − меньше проверять, вам —  проще найти ошибку или дополнить эксперимент. При проверке оценивается четкость ответов на вопросы, аккуратность отчета и кода.\n",
    "\n",
    "### О задании\n",
    "\n",
    "Лабораторная работа №1 направлена на работу с пакетами NumPy, Pandas и Matplotlib путём решения набора задач. В данном задании разрешено пользоваться только стандартной библиотекой языка Python, а также пакетами NumPy, Pandas и Matplotlib. Целью задания является редактирование данного ipython notebook-a (в части блоков с кодом на python) таким образом, чтобы были реализованы указанные в задании функции.\n",
    "\n",
    "### Оценивание и штрафы\n",
    "\n",
    "Каждая из задач имеет определенную «стоимость» (указана в скобках около задачи). Максимально допустимая оценка за работу — 10 баллов.\n",
    "Сдавать задание после указанного срока сдачи нельзя. «Похожие» решения считаются плагиатом и все задействованные студенты (в том числе те, у кого списали) не могут получить за него больше 0 баллов и понижают карму (подробнее о плагиате см. на странице курса). Если вы нашли решение какого-то из заданий в открытом источнике, необходимо прислать ссылку на этот источник (скорее всего вы будете не единственным, кто это нашел, поэтому чтобы исключить подозрение в плагиате, необходима ссылка на источник).\n",
    "\n",
    "###  Правила сдачи\n",
    "\n",
    "Описаны на странице курса."
   ]
  },
  {
   "cell_type": "markdown",
   "metadata": {},
   "source": [
    "### (5 баллов) Знакомство с Numpy\n",
    "\n",
    "Во всех заданиях данного раздела запрещено использовать циклы. Под матрицей в данных заданиях понимается двумерный numpy.array."
   ]
  },
  {
   "cell_type": "code",
   "execution_count": 2,
   "metadata": {
    "collapsed": true
   },
   "outputs": [],
   "source": [
    "import numpy as np"
   ]
  },
  {
   "cell_type": "markdown",
   "metadata": {},
   "source": [
    "**1. (0.5 балла)** Реализуйте функцию, принимающую на вход матрицу X и два массива i и j одинаковой длины и возвращающую вектор np.array, состоящий из последовательности элементов [X[i[0], j[0]], X[i[1], j[1]], ..., X[i[N-1], j[N-1]]]."
   ]
  },
  {
   "cell_type": "code",
   "execution_count": 3,
   "metadata": {
    "collapsed": false
   },
   "outputs": [
    {
     "name": "stdout",
     "output_type": "stream",
     "text": [
      "[[ 0.48195448  0.16300601  0.64724338]\n",
      " [ 0.73734807  0.63845254  0.11067192]\n",
      " [ 0.07787699  0.7435156   0.42012408]]\n"
     ]
    },
    {
     "data": {
      "text/plain": [
       "array([ 0.73734807,  0.63845254,  0.42012408])"
      ]
     },
     "execution_count": 3,
     "metadata": {},
     "output_type": "execute_result"
    }
   ],
   "source": [
    "def construct_array(X, i, j):\n",
    "    return X[i, j]\n",
    "\n",
    "# Testing\n",
    "X_test = np.random.rand(3, 3)\n",
    "print X_test\n",
    "i_test = [1, 1, 2]\n",
    "j_test = [0, 1, 2]\n",
    "result = construct_array(X_test, i_test, j_test)\n",
    "result"
   ]
  },
  {
   "cell_type": "markdown",
   "metadata": {},
   "source": [
    "**2. (0.5 балла)** Написать функцию для подсчёта произведения ненулевых элементов на диагонали прямоугольной матрицы.\n",
    "Например, для X = np.array([[1, 0, 1], [2, 0, 2], [3, 0, 3], [4, 4, 4]]) ответом является 3. Если ненулевых элементов нет, функция должна возвращать None."
   ]
  },
  {
   "cell_type": "code",
   "execution_count": 4,
   "metadata": {
    "collapsed": false
   },
   "outputs": [
    {
     "name": "stdout",
     "output_type": "stream",
     "text": [
      "3\n",
      "None\n"
     ]
    }
   ],
   "source": [
    "def nonzero_product(X):\n",
    "    diag = np.diagonal(X)\n",
    "    non_zero = diag[diag != 0]\n",
    "    if non_zero.size != 0:\n",
    "        return non_zero.prod()\n",
    "    else:\n",
    "        return None\n",
    "\n",
    "X = np.array([[1, 0, 1], [2, 0, 2], [3, 0, 3], [4, 4, 4]])\n",
    "result = nonzero_product(X)\n",
    "print result\n",
    "\n",
    "X = np.array([[0, 0, 1], [2, 0, 2], [3, 0, 0], [4, 4, 4]])\n",
    "result = nonzero_product(X)\n",
    "print result"
   ]
  },
  {
   "cell_type": "markdown",
   "metadata": {},
   "source": [
    "**3. (0.5 балла)** Написать функцию, возвращающую максимальный элемент в векторе x среди элементов, перед которыми стоит нулевой. Для x = np.array([6, 2, 0, 3, 0, 0, 5, 7, 0]) ответом является 5. Если нулевых элементов нет, функция должна возвращать None.\n"
   ]
  },
  {
   "cell_type": "code",
   "execution_count": 5,
   "metadata": {
    "collapsed": false
   },
   "outputs": [
    {
     "name": "stdout",
     "output_type": "stream",
     "text": [
      "5\n",
      "None\n"
     ]
    }
   ],
   "source": [
    "def max_element(arr):\n",
    "    elements = (np.roll(arr, -1))[:-1][arr[:-1] == 0]\n",
    "    if elements.size != 0:\n",
    "        return max(elements)\n",
    "    else:\n",
    "        return None\n",
    "\n",
    "x = np.array([6, 2, 0, 3, 0, 0, 5, 7, 0])\n",
    "result = max_element(x)\n",
    "print result\n",
    "\n",
    "x = np.array([6, 2, 1, 3, 7, 1, 5, 7, 1])\n",
    "result = max_element(x)\n",
    "print result"
   ]
  },
  {
   "cell_type": "markdown",
   "metadata": {},
   "source": [
    "**4. (0.5 балла)** Реализуйте функцию, принимающую на вход матрицу и некоторое число и возвращающую ближайший к числу элемент матрицы. Например: для X = np.arange(0,10).reshape((2, 5)) и v = 3.6 ответом будет 4."
   ]
  },
  {
   "cell_type": "code",
   "execution_count": 6,
   "metadata": {
    "collapsed": false
   },
   "outputs": [
    {
     "name": "stdout",
     "output_type": "stream",
     "text": [
      "4\n"
     ]
    }
   ],
   "source": [
    "def nearest_value(X, v):\n",
    "    X_vect = X.flatten()\n",
    "    res = list(abs(X_vect - v))\n",
    "    return X_vect[res.index(min(res))]\n",
    "\n",
    "X = np.arange(0,10).reshape((2, 5))\n",
    "v = 3.6\n",
    "result = nearest_value(X, v)\n",
    "print result"
   ]
  },
  {
   "cell_type": "markdown",
   "metadata": {},
   "source": [
    "**5. (1 балл)** Написать функцию, которая получает на вход матрицу и масштабирует каждый её столбец, а именно вычитает из столбца его среднее значение и делит столбец на стандартное отклонение. Для тестирования можно сгенерировать с помощью метода numpy.random.randint случайную матрицу и проверить на ней работу метода.  Убедитесь, что в функции не будет происходить деления на ноль. "
   ]
  },
  {
   "cell_type": "code",
   "execution_count": 7,
   "metadata": {
    "collapsed": false
   },
   "outputs": [
    {
     "name": "stdout",
     "output_type": "stream",
     "text": [
      "[[ 0.94099116 -1.07734111  0.01790807 -0.94913713  1.20471844  0.7628169\n",
      "   0.14046642]\n",
      " [-0.21693377 -0.81640546 -1.21297533  0.07565105 -0.81285538 -1.47408646\n",
      "   0.42223386]\n",
      " [-0.28047314  1.36424265  0.90110419 -1.66660487  1.4790082  -0.35657182\n",
      "   0.19635931]\n",
      " [ 0.82672234 -1.03193279  0.94285408  0.52075762 -1.21902106 -0.86368914\n",
      "  -2.17864442]\n",
      " [ 0.68743904  0.89847372 -1.46831564  0.9558067  -0.35745018  0.46244029\n",
      "   0.77808855]\n",
      " [-1.95774563  0.66296299  0.81942464  1.06352663 -0.29440002  1.46909022\n",
      "   0.64149627]]\n"
     ]
    }
   ],
   "source": [
    "def scale(X):\n",
    "    columns = np.hsplit(X, X.shape[1])\n",
    "    if len(filter(lambda x: x == True, map(lambda x: np.std(x) == 0.0, columns))) == 0:\n",
    "        return np.hstack(map(lambda x: (x - np.mean(x))/np.std(x), columns))\n",
    "    else:\n",
    "        return None\n",
    "\n",
    "matr = np.random.random(size=(6, 7))\n",
    "result = scale(matr)\n",
    "print result"
   ]
  },
  {
   "cell_type": "markdown",
   "metadata": {},
   "source": [
    "**6. (1 балл)** Реализуйте функцию, которая для заданной матрицы находит:\n",
    " - определитель\n",
    " - след\n",
    " - наименьший и наибольший элементы\n",
    " - норму Фробениуса\n",
    " - собственные числа\n",
    " - обратную матрицу\n",
    "\n",
    "Для тестирования сгенерируйте матрицу с элементами из нормального распределения $N$(10,1)"
   ]
  },
  {
   "cell_type": "code",
   "execution_count": 8,
   "metadata": {
    "collapsed": false
   },
   "outputs": [
    {
     "name": "stdout",
     "output_type": "stream",
     "text": [
      "[[  7.89223064   9.27580942  10.90186763   9.63382016  10.3287232 ]\n",
      " [  8.68537688   9.97360578  10.3967628   10.80544727   9.43068039]\n",
      " [ 10.26343765   9.39247105   8.64473254  11.08173603   9.16959479]\n",
      " [  9.22976895   9.38369042   9.57423322  10.27468934   8.24501094]\n",
      " [  9.76116491   8.68801053  10.18383046  11.15114198  10.23653263]]\n",
      "Stats:\n",
      "determinant:  -53.8256687026\n",
      "trace:  47.0217909269\n",
      "max:  11.1511419777\n",
      "min:  7.89223064481\n",
      "frobenius norm:  48.7094166972\n",
      "eigenvalues:  (array([ 48.47929376+0.j        ,  -2.16963872+0.j        ,\n",
      "         1.26294753+0.j        ,  -0.27540582+0.57388433j,\n",
      "        -0.27540582-0.57388433j]), array([[ 0.44325182+0.j        , -0.64759622+0.j        ,\n",
      "        -0.40260557+0.j        , -0.42224544+0.24954641j,\n",
      "        -0.42224544-0.24954641j],\n",
      "       [ 0.45424346+0.j        , -0.24855375+0.j        ,\n",
      "         0.48921004+0.j        , -0.26356044-0.21794588j,\n",
      "        -0.26356044+0.21794588j],\n",
      "       [ 0.44704050+0.j        ,  0.70687423+0.j        ,\n",
      "        -0.00381916+0.j        ,  0.04342028+0.3420769j ,\n",
      "         0.04342028-0.3420769j ],\n",
      "       [ 0.43012978+0.j        ,  0.13702545+0.j        ,\n",
      "         0.46956588+0.j        ,  0.60925026+0.j        ,  0.60925026-0.j        ],\n",
      "       [ 0.46079699+0.j        , -0.01982452+0.j        ,\n",
      "        -0.61487852+0.j        , -0.05736397-0.38612488j,\n",
      "        -0.05736397+0.38612488j]]))\n",
      "inv matrix:  [[  3.52536014e-01  -1.17255951e+00   1.82065822e-01   7.69779402e-01\n",
      "   -5.85669344e-02]\n",
      " [  3.10050442e-01   1.10602279e-01   4.74082058e-01  -5.82977938e-02\n",
      "   -7.92451376e-01]\n",
      " [  1.31547102e-03  -2.88000077e-01  -6.88177707e-01   7.01830720e-01\n",
      "    3.15161237e-01]\n",
      " [ -9.46405176e-01   1.34167440e+00  -3.37335362e-01  -6.77776395e-01\n",
      "    5.66965126e-01]\n",
      " [  4.30342816e-01  -1.50795671e-01   4.76133409e-01  -6.44436581e-01\n",
      "   -1.05050201e-01]]\n"
     ]
    }
   ],
   "source": [
    "def get_stats(X):\n",
    "    # Your code here\n",
    "    det = np.linalg.det(X)\n",
    "    print \"determinant: \", det\n",
    "    print \"trace: \", np.trace(X)\n",
    "    print \"max: \", X.max()\n",
    "    print \"min: \", X.min()\n",
    "    print \"frobenius norm: \", np.linalg.norm(X, ord='fro')\n",
    "    print \"eigenvalues: \", np.linalg.eig(X)\n",
    "    if det != 0:\n",
    "        print \"inv matrix: \", np.linalg.inv(X)\n",
    "\n",
    "matr = np.random.randn(5, 5) + 10\n",
    "print matr\n",
    "print \"Stats:\"\n",
    "get_stats(matr)"
   ]
  },
  {
   "cell_type": "markdown",
   "metadata": {},
   "source": [
    "**7. (1 балл)** Повторите 100 раз следующий эксперимент: сгенерируйте две матрицы размера 10×10 из стандартного нормального распределения, перемножьте их (как матрицы) и найдите максимальный элемент. Какое среднее значение по экспериментам у максимальных элементов? 95-процентная квантиль? (Данную задачу можно решать используя цикл для повторения эксперимента) "
   ]
  },
  {
   "cell_type": "code",
   "execution_count": 9,
   "metadata": {
    "collapsed": false
   },
   "outputs": [
    {
     "name": "stdout",
     "output_type": "stream",
     "text": [
      "mean value:  8.36861720178\n",
      "95th quantile:  12.2147196215\n"
     ]
    }
   ],
   "source": [
    "max_elements = []\n",
    "for i in range(100):\n",
    "    A = np.random.randn(10, 10)\n",
    "    B = np.random.randn(10, 10)\n",
    "    C = A.dot(B)\n",
    "    max_elements.append(np.amax(C))\n",
    "\n",
    "print \"mean value: \", np.mean(max_elements)\n",
    "print \"95th quantile: \", np.percentile(max_elements, 95)"
   ]
  },
  {
   "cell_type": "markdown",
   "metadata": {},
   "source": [
    "### (3 балла) Pandas \n",
    "\n",
    "![](https://metrouk2.files.wordpress.com/2015/10/panda.jpg)"
   ]
  },
  {
   "cell_type": "code",
   "execution_count": 10,
   "metadata": {
    "collapsed": true
   },
   "outputs": [],
   "source": [
    "import pandas as pd"
   ]
  },
  {
   "cell_type": "markdown",
   "metadata": {},
   "source": [
    "Загрузите данные о пассажирах Титаника из файла *titanic.csv* и ответьте на следующие вопросы:\n",
    "\n",
    "**1. (1 балл)** Опишите данный датасет: какое расределение женщин/мужчин в нем? Сколько пассажиров ехало каким классом? Какой средний/минимальный/максимальный возраст пассажиров? Что можно сказать о количестве выживших пассажиров?"
   ]
  },
  {
   "cell_type": "code",
   "execution_count": 11,
   "metadata": {
    "collapsed": false
   },
   "outputs": [],
   "source": [
    "data = pd.read_csv(\"titanic.csv\")"
   ]
  },
  {
   "cell_type": "markdown",
   "metadata": {},
   "source": [
    "распределение женщин/мужчин:"
   ]
  },
  {
   "cell_type": "code",
   "execution_count": 12,
   "metadata": {
    "collapsed": false
   },
   "outputs": [
    {
     "name": "stdout",
     "output_type": "stream",
     "text": [
      "male      577\n",
      "female    314\n",
      "dtype: int64\n",
      "amount of passengers:  891\n",
      "female:  35.2 %\n",
      "male:  64.8 %\n"
     ]
    }
   ],
   "source": [
    "sex_values = data['Sex'].value_counts()\n",
    "print sex_values\n",
    "amount = sum(sex_values)\n",
    "print \"amount of passengers: \", amount\n",
    "print \"female: \", round(sex_values['female']/float(amount)*100, 1), \"%\"\n",
    "print \"male: \", round(sex_values['male']/float(amount)*100, 1), \"%\""
   ]
  },
  {
   "cell_type": "markdown",
   "metadata": {},
   "source": [
    "Количество пассажиров каждого класса:"
   ]
  },
  {
   "cell_type": "code",
   "execution_count": 13,
   "metadata": {
    "collapsed": false
   },
   "outputs": [
    {
     "data": {
      "text/plain": [
       "3    491\n",
       "1    216\n",
       "2    184\n",
       "dtype: int64"
      ]
     },
     "execution_count": 13,
     "metadata": {},
     "output_type": "execute_result"
    }
   ],
   "source": [
    "data['Pclass'].value_counts()"
   ]
  },
  {
   "cell_type": "markdown",
   "metadata": {},
   "source": [
    "Возраст:"
   ]
  },
  {
   "cell_type": "code",
   "execution_count": 14,
   "metadata": {
    "collapsed": false
   },
   "outputs": [
    {
     "name": "stdout",
     "output_type": "stream",
     "text": [
      "mean age:  30\n",
      "min age:  0.42\n",
      "max age:  80.0\n"
     ]
    }
   ],
   "source": [
    "mean_age = int(round(data['Age'].mean()))\n",
    "print \"mean age: \", mean_age\n",
    "print \"min age: \", data['Age'].min()\n",
    "print \"max age: \", data['Age'].max()"
   ]
  },
  {
   "cell_type": "markdown",
   "metadata": {},
   "source": [
    "Количество выживших пассажиров:"
   ]
  },
  {
   "cell_type": "code",
   "execution_count": 15,
   "metadata": {
    "collapsed": false
   },
   "outputs": [
    {
     "name": "stdout",
     "output_type": "stream",
     "text": [
      "Survived:  342 ;  38.4 %\n",
      "\n"
     ]
    }
   ],
   "source": [
    "survived = data['Survived'].value_counts()[1]\n",
    "print \"Survived: \", survived, \"; \", round(float(survived)/amount*100, 1), \"%\"\n",
    "print "
   ]
  },
  {
   "cell_type": "markdown",
   "metadata": {},
   "source": [
    "**2. (1 балл)** Верно ли, что женщины выживали чаще мужчин? Какие пассажиры выживали чаще: с более дешевыми или дорогими билетами? Верно ли, что чаще выживали более молодые пассажиры?"
   ]
  },
  {
   "cell_type": "code",
   "execution_count": 16,
   "metadata": {
    "collapsed": false
   },
   "outputs": [
    {
     "name": "stdout",
     "output_type": "stream",
     "text": [
      "percent of survivors\n",
      "women (to all women):  74.2038216561\n",
      "men (to all men):  18.8908145581\n",
      "women (to all survivors):  68.1286549708\n",
      "men (to all survivors):  31.8713450292\n"
     ]
    }
   ],
   "source": [
    "survived_values = data.groupby('Sex').sum()['Survived']\n",
    "print \"percent of survivors\"\n",
    "print \"women (to all women): \", float(survived_values['female'])/sex_values['female']*100\n",
    "print \"men (to all men): \", float(survived_values['male'])/sex_values['male']*100\n",
    "print \"women (to all survivors): \", float(survived_values['female'])/survived*100\n",
    "print \"men (to all survivors): \", float(survived_values['male'])/survived*100"
   ]
  },
  {
   "cell_type": "markdown",
   "metadata": {},
   "source": [
    "Как показывают данные, женщины выживали чаще мужчин. 74% всех женщин выжило, мужчин выжило меньше 20%. Также 68% от числа всех спасенных составляют женщины."
   ]
  },
  {
   "cell_type": "code",
   "execution_count": 17,
   "metadata": {
    "collapsed": false
   },
   "outputs": [
    {
     "name": "stdout",
     "output_type": "stream",
     "text": [
      "survived\n",
      "with expensive ticket:  64.6 %\n",
      "with cheap ticket:  32.0 %\n"
     ]
    }
   ],
   "source": [
    "fare_mean = data.groupby('Fare').sum().reset_index()['Fare'].mean()\n",
    "exp_values = data[data['Fare'] > fare_mean]['Survived'].value_counts()\n",
    "cheap_values = data[data['Fare'] < fare_mean]['Survived'].value_counts()\n",
    "print \"survived\"\n",
    "print \"with expensive ticket: \", round(float(exp_values[1])/exp_values.sum()*100, 1), \"%\"\n",
    "print \"with cheap ticket: \", round(float(cheap_values[1])/cheap_values.sum()*100, 1), \"%\""
   ]
  },
  {
   "cell_type": "markdown",
   "metadata": {},
   "source": [
    "Видно, что пассажиры с более дорогими билетами (цена выше средней, рассчитанной по всем возможным ценам на билет) выживали чаще. Примерно 65% из тех, кто купил более дорогой билет, выжило, а из тех, кто купил более дешевый, выжило только 32%"
   ]
  },
  {
   "cell_type": "code",
   "execution_count": 18,
   "metadata": {
    "collapsed": false
   },
   "outputs": [
    {
     "name": "stdout",
     "output_type": "stream",
     "text": [
      "survived\n",
      "older:  58.1 %\n",
      "younger:  30.9 %\n"
     ]
    }
   ],
   "source": [
    "old_values = data[data['Fare'] > mean_age]['Survived'].value_counts()\n",
    "young_values = data[data['Fare'] < mean_age]['Survived'].value_counts()\n",
    "print \"survived\"\n",
    "print \"older: \", round(float(old_values[1])/old_values.sum()*100, 1), \"%\"\n",
    "print \"younger: \", round(float(young_values[1])/young_values.sum()*100, 1), \"%\""
   ]
  },
  {
   "cell_type": "markdown",
   "metadata": {},
   "source": [
    "Видно, что чаще выживали более старые пассажиры (возраст выше среднего)."
   ]
  },
  {
   "cell_type": "markdown",
   "metadata": {},
   "source": [
    "**3. (1 балл)** Найдите все признаки, для которых есть пропуски в данных. Обычно алгоритмы по умолчанию не умеют обрабатывать такие данные. Предложите способы обработки данных с пропусками (не менее двух) и укажите их достоинства/недостаки каждого. Проиллюстрируйте их на примере данного датасета."
   ]
  },
  {
   "cell_type": "markdown",
   "metadata": {},
   "source": [
    "Ищем признаки, у которых есть пропуски (цифра в табличке обозначает количество пропусков):"
   ]
  },
  {
   "cell_type": "code",
   "execution_count": 19,
   "metadata": {
    "collapsed": false
   },
   "outputs": [
    {
     "data": {
      "text/html": [
       "<div>\n",
       "<table border=\"1\" class=\"dataframe\">\n",
       "  <thead>\n",
       "    <tr style=\"text-align: right;\">\n",
       "      <th></th>\n",
       "      <th>Survived</th>\n",
       "      <th>Pclass</th>\n",
       "      <th>Name</th>\n",
       "      <th>Sex</th>\n",
       "      <th>Age</th>\n",
       "      <th>SibSp</th>\n",
       "      <th>Parch</th>\n",
       "      <th>Ticket</th>\n",
       "      <th>Fare</th>\n",
       "      <th>Cabin</th>\n",
       "      <th>Embarked</th>\n",
       "    </tr>\n",
       "    <tr>\n",
       "      <th>PassengerId</th>\n",
       "      <th></th>\n",
       "      <th></th>\n",
       "      <th></th>\n",
       "      <th></th>\n",
       "      <th></th>\n",
       "      <th></th>\n",
       "      <th></th>\n",
       "      <th></th>\n",
       "      <th></th>\n",
       "      <th></th>\n",
       "      <th></th>\n",
       "    </tr>\n",
       "  </thead>\n",
       "  <tbody>\n",
       "    <tr>\n",
       "      <th>0</th>\n",
       "      <td>0</td>\n",
       "      <td>0</td>\n",
       "      <td>0</td>\n",
       "      <td>0</td>\n",
       "      <td>177</td>\n",
       "      <td>0</td>\n",
       "      <td>0</td>\n",
       "      <td>0</td>\n",
       "      <td>0</td>\n",
       "      <td>687</td>\n",
       "      <td>2</td>\n",
       "    </tr>\n",
       "  </tbody>\n",
       "</table>\n",
       "</div>"
      ],
      "text/plain": [
       "             Survived  Pclass  Name  Sex  Age  SibSp  Parch  Ticket  Fare  \\\n",
       "PassengerId                                                                 \n",
       "0                   0       0     0    0  177      0      0       0     0   \n",
       "\n",
       "             Cabin  Embarked  \n",
       "PassengerId                   \n",
       "0              687         2  "
      ]
     },
     "execution_count": 19,
     "metadata": {},
     "output_type": "execute_result"
    }
   ],
   "source": [
    "missing_data = pd.isnull(data)\n",
    "missing_data[missing_data == True].fillna(value=0).groupby('PassengerId').sum()"
   ]
  },
  {
   "cell_type": "markdown",
   "metadata": {
    "collapsed": true
   },
   "source": [
    "Получается, что пропуски есть у таких признаков: Age, Cabin, Embarked."
   ]
  },
  {
   "cell_type": "markdown",
   "metadata": {},
   "source": [
    "Наверное, самый простой способ обработки данных с пропусками - удалить наблюдения, которые их содержат.\n",
    "Достоинство - простота, недостаток - потеря данных."
   ]
  },
  {
   "cell_type": "code",
   "execution_count": 20,
   "metadata": {
    "collapsed": false
   },
   "outputs": [
    {
     "name": "stdout",
     "output_type": "stream",
     "text": [
      "183\n"
     ]
    }
   ],
   "source": [
    "data_without_nan = data.dropna(how='any')\n",
    "print data_without_nan['PassengerId'].size"
   ]
  },
  {
   "cell_type": "markdown",
   "metadata": {},
   "source": [
    "На данном датасете такой способ не надо использовать так как из 891 наблюдения после удаления наблюдений с пропусками осталось только 183."
   ]
  },
  {
   "cell_type": "markdown",
   "metadata": {},
   "source": [
    "Второй способ - заполнить пропуски в данных каким-нибудь значением, вычисленным по имеющимся данным. Судя по интернету, алгоритмов заполнения пропусков сейчас существует много (регрессионное моделирование, подбор в группе, заполнение средним арифметическим, EM-оценивание, метод Бартлера и т.д.)\n",
    "Проиллюстрирую способ заполнения пропусков средним значением (для признака Age):"
   ]
  },
  {
   "cell_type": "code",
   "execution_count": 21,
   "metadata": {
    "collapsed": false
   },
   "outputs": [
    {
     "data": {
      "text/html": [
       "<div>\n",
       "<table border=\"1\" class=\"dataframe\">\n",
       "  <thead>\n",
       "    <tr style=\"text-align: right;\">\n",
       "      <th></th>\n",
       "      <th>Age</th>\n",
       "      <th>Cabin</th>\n",
       "      <th>Embarked</th>\n",
       "      <th>Fare</th>\n",
       "      <th>Name</th>\n",
       "      <th>Parch</th>\n",
       "      <th>PassengerId</th>\n",
       "      <th>Pclass</th>\n",
       "      <th>Sex</th>\n",
       "      <th>SibSp</th>\n",
       "      <th>Survived</th>\n",
       "      <th>Ticket</th>\n",
       "    </tr>\n",
       "  </thead>\n",
       "  <tbody>\n",
       "    <tr>\n",
       "      <th>0</th>\n",
       "      <td>22</td>\n",
       "      <td>NaN</td>\n",
       "      <td>S</td>\n",
       "      <td>7.2500</td>\n",
       "      <td>Braund, Mr. Owen Harris</td>\n",
       "      <td>0</td>\n",
       "      <td>1</td>\n",
       "      <td>3</td>\n",
       "      <td>male</td>\n",
       "      <td>1</td>\n",
       "      <td>0</td>\n",
       "      <td>A/5 21171</td>\n",
       "    </tr>\n",
       "    <tr>\n",
       "      <th>1</th>\n",
       "      <td>38</td>\n",
       "      <td>C85</td>\n",
       "      <td>C</td>\n",
       "      <td>71.2833</td>\n",
       "      <td>Cumings, Mrs. John Bradley (Florence Briggs Th...</td>\n",
       "      <td>0</td>\n",
       "      <td>2</td>\n",
       "      <td>1</td>\n",
       "      <td>female</td>\n",
       "      <td>1</td>\n",
       "      <td>1</td>\n",
       "      <td>PC 17599</td>\n",
       "    </tr>\n",
       "    <tr>\n",
       "      <th>2</th>\n",
       "      <td>26</td>\n",
       "      <td>NaN</td>\n",
       "      <td>S</td>\n",
       "      <td>7.9250</td>\n",
       "      <td>Heikkinen, Miss. Laina</td>\n",
       "      <td>0</td>\n",
       "      <td>3</td>\n",
       "      <td>3</td>\n",
       "      <td>female</td>\n",
       "      <td>0</td>\n",
       "      <td>1</td>\n",
       "      <td>STON/O2. 3101282</td>\n",
       "    </tr>\n",
       "    <tr>\n",
       "      <th>3</th>\n",
       "      <td>35</td>\n",
       "      <td>C123</td>\n",
       "      <td>S</td>\n",
       "      <td>53.1000</td>\n",
       "      <td>Futrelle, Mrs. Jacques Heath (Lily May Peel)</td>\n",
       "      <td>0</td>\n",
       "      <td>4</td>\n",
       "      <td>1</td>\n",
       "      <td>female</td>\n",
       "      <td>1</td>\n",
       "      <td>1</td>\n",
       "      <td>113803</td>\n",
       "    </tr>\n",
       "    <tr>\n",
       "      <th>4</th>\n",
       "      <td>35</td>\n",
       "      <td>NaN</td>\n",
       "      <td>S</td>\n",
       "      <td>8.0500</td>\n",
       "      <td>Allen, Mr. William Henry</td>\n",
       "      <td>0</td>\n",
       "      <td>5</td>\n",
       "      <td>3</td>\n",
       "      <td>male</td>\n",
       "      <td>0</td>\n",
       "      <td>0</td>\n",
       "      <td>373450</td>\n",
       "    </tr>\n",
       "    <tr>\n",
       "      <th>5</th>\n",
       "      <td>30</td>\n",
       "      <td>NaN</td>\n",
       "      <td>Q</td>\n",
       "      <td>8.4583</td>\n",
       "      <td>Moran, Mr. James</td>\n",
       "      <td>0</td>\n",
       "      <td>6</td>\n",
       "      <td>3</td>\n",
       "      <td>male</td>\n",
       "      <td>0</td>\n",
       "      <td>0</td>\n",
       "      <td>330877</td>\n",
       "    </tr>\n",
       "  </tbody>\n",
       "</table>\n",
       "</div>"
      ],
      "text/plain": [
       "   Age Cabin Embarked     Fare  \\\n",
       "0   22   NaN        S   7.2500   \n",
       "1   38   C85        C  71.2833   \n",
       "2   26   NaN        S   7.9250   \n",
       "3   35  C123        S  53.1000   \n",
       "4   35   NaN        S   8.0500   \n",
       "5   30   NaN        Q   8.4583   \n",
       "\n",
       "                                                Name  Parch  PassengerId  \\\n",
       "0                            Braund, Mr. Owen Harris      0            1   \n",
       "1  Cumings, Mrs. John Bradley (Florence Briggs Th...      0            2   \n",
       "2                             Heikkinen, Miss. Laina      0            3   \n",
       "3       Futrelle, Mrs. Jacques Heath (Lily May Peel)      0            4   \n",
       "4                           Allen, Mr. William Henry      0            5   \n",
       "5                                   Moran, Mr. James      0            6   \n",
       "\n",
       "   Pclass     Sex  SibSp  Survived            Ticket  \n",
       "0       3    male      1         0         A/5 21171  \n",
       "1       1  female      1         1          PC 17599  \n",
       "2       3  female      0         1  STON/O2. 3101282  \n",
       "3       1  female      1         1            113803  \n",
       "4       3    male      0         0            373450  \n",
       "5       3    male      0         0            330877  "
      ]
     },
     "execution_count": 21,
     "metadata": {},
     "output_type": "execute_result"
    }
   ],
   "source": [
    "filled_data = data.combine_first(data['Age'].fillna(value=mean_age).to_frame())\n",
    "filled_data[:6]"
   ]
  },
  {
   "cell_type": "markdown",
   "metadata": {},
   "source": [
    "Видим, что у 6-го пассажира возраст теперь 30 вместо Nan."
   ]
  },
  {
   "cell_type": "markdown",
   "metadata": {},
   "source": [
    "Достоинства: простота реализации, точно лучше, чем не учитывать наблюдение вообще. Недостатки: неинформативность, можно применить только к количественным признакам."
   ]
  },
  {
   "cell_type": "markdown",
   "metadata": {},
   "source": [
    "### (2 балла) Matplotlib\n",
    "\n",
    "Обратите внимание, что у графиков должны быть подписаны оси, заголовок графика и при необходимости должна быть легенда. За отсутствие названий графиков и подписей к осям могут снижаться баллы. Все картинки должны быть самодостаточны и визуально удобны для восприятия, так чтобы не нужно было смотреть ваш код или знать задание, чтобы понятно было, что на них изображено.\n",
    "\n",
    "![](https://imgs.xkcd.com/comics/convincing.png)\n",
    "\n",
    "**1. (1 балл)** Используя следующую функцию для генерации выборки, отобразите на графике синим цветом функцию y(x), а также ее доверительный интервал в виде закрашенной зеленым цветом области от y[i] - error[i] до y[i] + error[i].\n",
    "\n",
    "    def gen_uncertain_data():\n",
    "        x = np.linspace(0, 30, 100)\n",
    "        y = np.sin(x/6*np.pi) + np.random.normal(0, 0.02, size=x.shape)\n",
    "        error = np.random.normal(0.1, 0.02, size=y.shape)\n",
    "        return x, y, error"
   ]
  },
  {
   "cell_type": "code",
   "execution_count": 22,
   "metadata": {
    "collapsed": true
   },
   "outputs": [],
   "source": [
    "import matplotlib.pyplot as plt\n",
    "%matplotlib inline"
   ]
  },
  {
   "cell_type": "code",
   "execution_count": 23,
   "metadata": {
    "collapsed": false
   },
   "outputs": [
    {
     "name": "stderr",
     "output_type": "stream",
     "text": [
      "/home/bender/anaconda/lib/python2.7/site-packages/matplotlib/collections.py:590: FutureWarning: elementwise comparison failed; returning scalar instead, but in the future will perform elementwise comparison\n",
      "  if self._edgecolors == str('face'):\n"
     ]
    },
    {
     "data": {
      "image/png": "[encoded data removed]",
      "text/plain": [
       "<matplotlib.figure.Figure at 0x7f719006b990>"
      ]
     },
     "metadata": {},
     "output_type": "display_data"
    }
   ],
   "source": [
    "def gen_uncertain_data():\n",
    "    x = np.linspace(0, 30, 100)\n",
    "    y = np.sin(x/6*np.pi) + np.random.normal(0, 0.02, size=x.shape)\n",
    "    error = np.random.normal(0.1, 0.02, size=y.shape)\n",
    "    return x, y, error\n",
    "\n",
    "x, y, error = gen_uncertain_data()\n",
    "plt.figure(figsize=(16, 8))\n",
    "curve, = plt.plot(x, y, linewidth=2.0, color='blue')\n",
    "plt.title('Noisy sin:', size=20)\n",
    "plt.xlabel('x', size=20)\n",
    "plt.ylabel('y', size=20)\n",
    "strip = plt.fill_between(x, y + error, y - error, facecolor='green')\n",
    "plt.legend([curve], ['sin(x * pi / 6) + er'], fontsize=12)\n",
    "plt.show()"
   ]
  },
  {
   "cell_type": "markdown",
   "metadata": {},
   "source": [
    "**2. (1 балл)** Отобразите гистограмму распределения возрастов для каждого класса пассажиров (здесь нужно использовать данные из заданий по pandas). В результате вы должны получить три гистограммы, которые необходимо отобразить рядом друг с другом используя функцию plt.subplots. Каждая гистограмма должна быть нормирована. Обратите внимание на параметры figsize, sharey, sharex функции plt.subplots. Также полезными могут оказаться параметры bins, normed функции plt.hist."
   ]
  },
  {
   "cell_type": "code",
   "execution_count": 24,
   "metadata": {
    "collapsed": false
   },
   "outputs": [
    {
     "data": {
      "image/png": "[encoded data removed]",
      "text/plain": [
       "<matplotlib.figure.Figure at 0x7f7181eabc10>"
      ]
     },
     "metadata": {},
     "output_type": "display_data"
    }
   ],
   "source": [
    "first_class = data[data['Pclass'] == 1]['Age'].dropna(how='any').tolist()\n",
    "second_class = data[data['Pclass'] == 2]['Age'].dropna(how='any').tolist()\n",
    "third_class = data[data['Pclass'] == 3]['Age'].dropna(how='any').tolist()\n",
    "\n",
    "f, (ax1, ax2, ax3) = plt.subplots(1, 3, sharey=True, figsize=(16, 8))\n",
    "ax1.set_xlabel('Age', size=15)\n",
    "ax1.set_ylabel('Frequency', size=15)\n",
    "ax1.set_title('1 class', size=20)\n",
    "ax1.hist(first_class, bins=15, normed=True, color='blue')\n",
    "ax2.set_xlabel('Age', size=15)\n",
    "ax2.set_title('2 class', size=20)\n",
    "ax2.hist(second_class, bins=15, normed=True, color='orange')\n",
    "ax3.set_xlabel('Age', size=15)\n",
    "ax3.set_title('3 class', size=20)\n",
    "ax3.hist(third_class, bins=15, normed=True, color='purple')\n",
    "plt.show()"
   ]
  },
  {
   "cell_type": "code",
   "execution_count": null,
   "metadata": {
    "collapsed": true
   },
   "outputs": [],
   "source": []
  }
 ],
 "metadata": {
  "kernelspec": {
   "display_name": "Python 3",
   "language": "python",
   "name": "python3"
  },
  "language_info": {
   "codemirror_mode": {
    "name": "ipython",
    "version": 3
   },
   "file_extension": ".py",
   "mimetype": "text/x-python",
   "name": "python",
   "nbconvert_exporter": "python",
   "pygments_lexer": "ipython3",
   "version": "3.6.0"
  }
 },
 "nbformat": 4,
 "nbformat_minor": 0
}
