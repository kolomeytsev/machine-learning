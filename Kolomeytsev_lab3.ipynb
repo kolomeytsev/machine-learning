{
 "cells": [
  {
   "cell_type": "markdown",
   "metadata": {},
   "source": [
    "# Коломейцев Юрий, БД"
   ]
  },
  {
   "cell_type": "markdown",
   "metadata": {},
   "source": [
    "# Лабораторная работа 3. Нейронные сети\n",
    "\n",
    "Результат лабораторной работы − отчет. Мы предпочитаем принимать отчеты в формате ноутбуков IPython (ipynb-файл). Постарайтесь сделать ваш отчет интересным рассказом, последовательно отвечающим на вопросы из заданий. Помимо ответов на вопросы, в отчете так же должен быть код, однако чем меньше кода, тем лучше всем: нам − меньше проверять, вам — проще найти ошибку или дополнить эксперимент. При проверке оценивается четкость ответов на вопросы, аккуратность отчета и кода.\n",
    "\n",
    "### Оценивание и штрафы\n",
    "Каждая из задач имеет определенную «стоимость» (указана в скобках около задачи). Максимально допустимая оценка за работу — 10 баллов. Сдавать задание после указанного срока сдачи нельзя. «Похожие» решения считаются плагиатом и все задействованные студенты (в том числе те, у кого списали) не могут получить за него больше 0 баллов и понижают карму (подробнее о плагиате см. на странице курса). Если вы нашли решение какого-то из заданий в открытом источнике, необходимо прислать ссылку на этот источник (скорее всего вы будете не единственным, кто это нашел, поэтому чтобы исключить подозрение в плагиате, нам необходима ссылка на источник).\n",
    "\n",
    "### Правила сдачи\n",
    "Выполненную работу следует отправить в систему Anytask. Более подробно о системе можно почитать на странице курса. Название отправляемого файла должно иметь следующий формат: Surname_Name_Group_NN.ipynb, где NN — номер лабораторной работы. Например, Kozlova_Anna_CS_03.ipynb."
   ]
  },
  {
   "cell_type": "markdown",
   "metadata": {},
   "source": [
    "## Алгоритм обратного распространения ошибки"
   ]
  },
  {
   "cell_type": "markdown",
   "metadata": {},
   "source": [
    "**(4 балла)** Вам необходимо реализовать небольшой программный комплекс для обучения полносвязных нейронных сетей в рамках задачи классификации. \n",
    "\n",
    "<img src=\"http://www.asimovinstitute.org/wp-content/uploads/2016/09/cnn.png\" width=500>\n",
    "</img>\n",
    "\n",
    "Программный комплекс должен поддерживать минимальный набор базовых слоев и обучение сети методом стохастического градиентного спуска с подсчетом градиентов с помощью обратного распространения ошибки. На входе у каждого из слоев будет вектор $x\\in\\mathbb{R}^n$, который является выходом предыдущего слоя.\n",
    "Список поддерживаемых слоев должен включать в себя:\n",
    "\n",
    " - Полносвязный слой (Linear) с заданием количества выходных нейронов $k$:\n",
    " \n",
    " $$\\mathrm{Linear} \\equiv f\\left(\\textbf{x}\\right)=\\textbf{W}\\textbf{x}+\\textbf{b},$$\n",
    " \n",
    " где $\\textbf{W}\\in\\mathbb{R}^{(k,n)}$ - это матрица весов слоя, $\\textbf{b}\\in\\mathbb{R}^k$ - вектор смещений слоя.\n",
    " \n",
    " \n",
    "  - ReLU-слой (Rectified Linear Unit)\n",
    "  \n",
    "  $$\\mathrm{ReLU}_{i} \\equiv \\max (0, x_i)$$\n",
    "\n",
    "\n",
    " - Softmax-слой, объединенный с cross-entropy функцией потерь. Softmax позволяет моделировать распределение вероятностей над дискретным набором классов:\n",
    "     \n",
    "     $$\\mathrm{Softmax}_{i} \\equiv p_{i}\\left(\\textbf{x}\\right)=\\frac{e^{x_{i}}}{\\sum_{j}{e^{x_{j}}}}$$\n",
    "\n",
    "    Функция потерь cross-entropy является обобщением двухклассовой логарифмической функции потерь на случай множества классов: \n",
    "    \n",
    "    $$\\mathcal{L}=-\\sum_{i}{y_{i}\\log{p_{i}}},$$\n",
    "\n",
    "    где $\\textbf{y}=\\left[y_{1}...y_{i}...\\right]$ $-$ это вектор, размерность которого равна количеству классов и в котором все элементы нулевые, за исключением одного элемента, соответствующего правильному классу.\n",
    "    \n",
    "    Можно показать, что частная производная связки softmax слоя и cross-entropy функции потерь по входу в softmax имеет простой вид:\n",
    "    \n",
    "    $$\\frac{\\partial \\mathcal{L}}{\\partial x_{i}}=p_{i}-y_{i}$$\n",
    "    \n",
    "Каждый из слоев должен быть написан в виде отдельного класса, с методами <i>forward</i> (прямой просчет выходов сети) и <i>backward</i> (обратный прогон сети с нахождением градиентов весовых коэффициентов):\n",
    "\n",
    "    class Layer:\n",
    "        def forward(self, input):\n",
    "            pass\n",
    "            \n",
    "        def backward(self, input, gradOutput)\n",
    "            pass\n",
    "            \n",
    "В метод <i>bprop</i> должен передаваться градиент по выходам данного слоя. Для слоя softmax на вход метода *fprop* должны подаваться не только выходы предыдущего слоя, но и метки классов (в виде двухэлементного списка матриц в переменной inputs).\n",
    "\n",
    "При создании Dense слоя весовые коэффициенты должны инициализироваться из распределения $U(-0.01,0.01)$.\n",
    "\n",
    "Кроме того, необходимо реализовать класс нейронной сети, который должен позволять конструировать сети из любой последовательности вышеназванных слоев и обучаться на входной выборке. Класс нейронной сети должен хранить в себе упорядоченный список слоев.\n",
    "\n",
    "    class Sequential(Layer):\n",
    "        def add(self, module):\n",
    "            pass\n",
    "\n",
    "        def updateOutput(self, input):\n",
    "            pass\n",
    "\n",
    "        def backward(self, input, gradOutput):\n",
    "            pass\n",
    "\n",
    "            \n",
    "Можно предполагать, что softmax слой в сети один и всегда будет добавляться последним. Обучение должно происходить методом стохастического градиентного спуска с задаваемыми параметрами размера батча $K$ и шага обучения $\\eta$:\n",
    "$$\\textbf{W} \\leftarrow \\textbf{W}-\\eta \\sum_{k=1}^{K}{\\nabla_{\\textbf{W}}L\\left(\\textbf{x}^k\\right)}$$\n",
    "\n",
    "В процессе обучения должен осуществляться подсчет как значения функции потерь (cross-entropy), так и ошибки классификации (процент ошибочных топ-1 предсказаний сети). Эти ошибки должны выводиться один раз в эпоху (проход по всем обучающим примерам).\n",
    "В процессе написания комплекса вам понадобится добавлять различные вспомогательные функции в исходный шаблон.\n",
    "\n",
    "Все вычисления в описанных методах должны быть реализованы в матричной форме."
   ]
  },
  {
   "cell_type": "code",
   "execution_count": 13,
   "metadata": {
    "collapsed": true
   },
   "outputs": [],
   "source": [
    "import numpy as np\n",
    "%matplotlib inline\n",
    "import matplotlib.pyplot as plt\n",
    "import os"
   ]
  },
  {
   "cell_type": "code",
   "execution_count": 14,
   "metadata": {
    "collapsed": true
   },
   "outputs": [],
   "source": [
    "class Layer(object):\n",
    "    \n",
    "    def __init__ (self):\n",
    "        self.output = None\n",
    "        self.gradInput = None\n",
    "    \n",
    "    def forward(self, input):\n",
    "        return self.updateOutput(input)\n",
    "\n",
    "    def backward(self,input, gradOutput):\n",
    "        self.updateGradInput(input, gradOutput)\n",
    "        self.accGradParameters(input, gradOutput)\n",
    "        return self.gradInput\n",
    "    \n",
    "\n",
    "    def updateOutput(self, input):\n",
    "        pass\n",
    "\n",
    "    def updateGradInput(self, input, gradOutput):\n",
    "        pass   \n",
    "    \n",
    "    def accGradParameters(self, input, gradOutput):\n",
    "        pass\n",
    "    \n",
    "    def zeroGradParameters(self):\n",
    "        pass\n",
    "        \n",
    "    def getParameters(self):\n",
    "        return []\n",
    "        \n",
    "    def getGradParameters(self):\n",
    "        return []\n",
    "    \n",
    "    def __repr__(self):\n",
    "        return \"Layer\"\n",
    "\n",
    "    \n",
    "class Linear(Layer):\n",
    "\n",
    "    def __init__(self, n_in, n_out, w=None, b=None):\n",
    "        super(Linear, self).__init__()\n",
    "        \n",
    "        stdv = 1. / np.sqrt(n_in) # or 0.01 as in the task\n",
    "        \n",
    "        if w is not None:\n",
    "            self.W = w\n",
    "        else:\n",
    "            self.W = np.random.uniform(-stdv, stdv, size = (n_out, n_in))\n",
    "            #self.W = np.random.randn(n_out, n_in) * 0.001\n",
    "            \n",
    "        if b is not None:\n",
    "            self.b = b\n",
    "        else:\n",
    "            self.b = np.random.uniform(-stdv, stdv, size = n_out)\n",
    "            #self.b = np.random.randn(n_out) * 0.001 # np.zeros(n_out) also ok\n",
    "\n",
    "        self.gradW = np.zeros_like(self.W)\n",
    "        self.gradb = np.zeros_like(self.b)\n",
    "        \n",
    "    def updateOutput(self, input):\n",
    "        \"\"\"given X input, produces output: for linear it is y = wx + b\"\"\" \n",
    "        self.output = input.dot(self.W.T) + self.b\n",
    "        return self.output\n",
    "    \n",
    "    def updateGradInput(self, input, gradOutput):\n",
    "        \"\"\"given input and dL/d_output, computes dL/d_input\"\"\"\n",
    "        self.gradInput = gradOutput.dot(self.W).reshape(input.shape)        \n",
    "        return self.gradInput\n",
    "    \n",
    "    def accGradParameters(self, input, gradOutput):\n",
    "        \"\"\"given input and dL/d_output, computes dL/dW, dL/db\"\"\"\n",
    "        self.gradW = gradOutput.T.dot(input).reshape(self.W.shape)\n",
    "        self.gradb = np.ones_like(self.b) * gradOutput.sum(axis = 0)\n",
    "        return self.gradW, self.gradb\n",
    "    \n",
    "    def zeroGradParameters(self):\n",
    "        self.gradW.fill(0)\n",
    "        self.gradb.fill(0)\n",
    "        \n",
    "    def getParameters(self):\n",
    "        return [self.W, self.b]\n",
    "    \n",
    "    def getGradParameters(self):\n",
    "        return [self.gradW, self.gradb]\n",
    "    \n",
    "    def __repr__(self):\n",
    "        s = self.W.shape\n",
    "        q = \"Linear %d -> %d\" % (s[1], s[0])\n",
    "        return q\n",
    "    \n",
    "\n",
    "class SoftMax(Layer):\n",
    "    def __init__(self):\n",
    "         super(SoftMax, self).__init__()\n",
    "    \n",
    "    def updateOutput(self, input):\n",
    "        # substract max for numerical stability\n",
    "        input = np.subtract(input, input.max(axis=1, keepdims=True))\n",
    "        self.output = np.exp(input)\n",
    "        self.output = self.output / self.output.sum(axis=1, keepdims=True)\n",
    "        return self.output\n",
    "    \n",
    "    def updateGradInput(self, input, gradOutput):\n",
    "        exp = np.exp(np.subtract(input, input.max(axis=1, keepdims=True)))\n",
    "        denom = exp.sum(axis=1, keepdims=True)\n",
    "        \n",
    "        e = np.diag(exp.dot(gradOutput.T))\n",
    "        self.gradInput = - np.diag(e).dot(exp)    \n",
    "        self.gradInput += exp * denom * gradOutput\n",
    "        self.gradInput /= denom**2\n",
    "        return self.gradInput\n",
    "\n",
    "\n",
    "class ReLU(Layer):\n",
    "    def __init__(self):\n",
    "         super(ReLU, self).__init__()\n",
    "\n",
    "    def updateOutput(self, input):\n",
    "        self.output = np.maximum(0, input)\n",
    "        return self.output\n",
    "    \n",
    "    def updateGradInput(self, input, gradOutput):\n",
    "        self.gradInput = np.multiply(gradOutput, input > 0)\n",
    "        return self.gradInput"
   ]
  },
  {
   "cell_type": "markdown",
   "metadata": {},
   "source": [
    "Класс Layer является базовым для классов: Linear, SoftMax, ReLU, у которых перегружены некоторые функции."
   ]
  },
  {
   "cell_type": "markdown",
   "metadata": {},
   "source": [
    "## Cross-Entropy Loss"
   ]
  },
  {
   "cell_type": "code",
   "execution_count": 15,
   "metadata": {
    "collapsed": true
   },
   "outputs": [],
   "source": [
    "class Criterion:\n",
    "    def forward(self, input, target):\n",
    "        return self.updateOutput(input, target)\n",
    "\n",
    "    def backward(self, input, target):\n",
    "        return self.updateGradInput(input, target)\n",
    "    \n",
    "    def updateOutput(self, input, target):\n",
    "        return self.output\n",
    "\n",
    "    def updateGradInput(self, input, target):\n",
    "        return self.gradInput   \n",
    "\n",
    "    def __repr__(self):\n",
    "        return \"Criterion\"\n",
    "    \n",
    "\n",
    "class CrossEntropyCriterion(Criterion):\n",
    "    def updateOutput(self, input, target):\n",
    "        self.output = -1.0 / input.shape[0] * (target * np.log(input)).sum()\n",
    "        return self.output\n",
    "\n",
    "    def updateGradInput(self, input, target):\n",
    "        self.gradInput = -1.0 / input.shape[0] * target / input\n",
    "        return self.gradInput"
   ]
  },
  {
   "cell_type": "markdown",
   "metadata": {},
   "source": [
    "## Sequential"
   ]
  },
  {
   "cell_type": "code",
   "execution_count": 16,
   "metadata": {
    "collapsed": true
   },
   "outputs": [],
   "source": [
    "class Sequential(Layer):\n",
    "\n",
    "    def __init__ (self):\n",
    "        super(Sequential, self).__init__()\n",
    "        self.modules = []\n",
    "   \n",
    "    def add(self, module):\n",
    "        self.modules.append(module)\n",
    "\n",
    "    def updateOutput(self, input):\n",
    "        self.output = input\n",
    "        for module in self.modules:\n",
    "            module.y = self.output\n",
    "            self.output = module.forward(self.output)\n",
    "        return self.output\n",
    "\n",
    "    def backward(self, input, gradOutput):\n",
    "        self.curent_grad = gradOutput\n",
    "        \n",
    "        for module in reversed(self.modules):\n",
    "            self.curent_grad = module.backward(module.y, self.curent_grad)\n",
    "\n",
    "        return self.gradInput\n",
    "\n",
    "    def zeroGradParameters(self): \n",
    "        for module in self.modules:\n",
    "            module.zeroGradParameters()\n",
    "    \n",
    "    def getParameters(self):\n",
    "        return [x.getParameters() for x in self.modules]\n",
    "    \n",
    "    def getGradParameters(self):\n",
    "        return [x.getGradParameters() for x in self.modules]\n",
    "    \n",
    "    def __repr__(self):\n",
    "        string = \"\".join([str(x) + '\\n' for x in self.modules])\n",
    "        return string\n",
    "    \n",
    "    def __getitem__(self,x):\n",
    "        return self.modules.__getitem__(x)"
   ]
  },
  {
   "cell_type": "markdown",
   "metadata": {},
   "source": [
    "## Стохастический градиентный спуск (SGD)\n",
    "\n",
    "Ниже располагается функция, реализующая алгоритм стохастического градиентного спуска с momentum"
   ]
  },
  {
   "cell_type": "code",
   "execution_count": 17,
   "metadata": {
    "collapsed": true
   },
   "outputs": [],
   "source": [
    "def sgd_momentum(x, dx, config, state):\n",
    "    state.setdefault('old_grad', {})    \n",
    "    i = 0 \n",
    "    for cur_layer_x, cur_layer_dx in zip(x,dx): \n",
    "        for cur_x, cur_dx in zip(cur_layer_x,cur_layer_dx):\n",
    "            \n",
    "            cur_old_grad = state['old_grad'].setdefault(i, np.zeros_like(cur_dx))\n",
    "            \n",
    "            np.add(config['momentum'] * cur_old_grad, config['learning_rate'] * cur_dx, out = cur_old_grad)\n",
    "            \n",
    "            cur_x -= cur_old_grad\n",
    "            i += 1"
   ]
  },
  {
   "cell_type": "markdown",
   "metadata": {},
   "source": [
    "#### Функция, генерирующая случайные батчи"
   ]
  },
  {
   "cell_type": "code",
   "execution_count": 18,
   "metadata": {
    "collapsed": true
   },
   "outputs": [],
   "source": [
    "# batch generator\n",
    "def get_batches(X, Y, batch_size):\n",
    "    n_samples = X.shape[0]\n",
    "        \n",
    "    # Shuffle at the start of epoch\n",
    "    indices = np.arange(n_samples)\n",
    "    np.random.shuffle(indices)\n",
    "    \n",
    "    for start in range(0, n_samples, batch_size):\n",
    "        end = min(start + batch_size, n_samples)\n",
    "        \n",
    "        batch_idx = indices[start:end]\n",
    "    \n",
    "        yield X[batch_idx], Y[batch_idx]"
   ]
  },
  {
   "cell_type": "code",
   "execution_count": null,
   "metadata": {
    "collapsed": true
   },
   "outputs": [],
   "source": []
  },
  {
   "cell_type": "markdown",
   "metadata": {
    "collapsed": true
   },
   "source": [
    "С помощью разработанных вами классов решите задачу классификации изображений [MNIST](http://yann.lecun.com/exdb/mnist/)."
   ]
  },
  {
   "cell_type": "code",
   "execution_count": null,
   "metadata": {
    "collapsed": true
   },
   "outputs": [],
   "source": []
  },
  {
   "cell_type": "code",
   "execution_count": 19,
   "metadata": {
    "collapsed": false
   },
   "outputs": [
    {
     "name": "stdout",
     "output_type": "stream",
     "text": [
      "Downloading train-images-idx3-ubyte.gz\n",
      "Downloading train-labels-idx1-ubyte.gz\n",
      "Downloading t10k-images-idx3-ubyte.gz\n",
      "Downloading t10k-labels-idx1-ubyte.gz\n"
     ]
    }
   ],
   "source": [
    "from mnist_loader import load_dataset\n",
    "\n",
    "X_train,y_train,X_test,y_test = load_dataset()"
   ]
  },
  {
   "cell_type": "markdown",
   "metadata": {},
   "source": [
    "Несколько примеров объектов из нашей выборки"
   ]
  },
  {
   "cell_type": "code",
   "execution_count": 40,
   "metadata": {
    "collapsed": false
   },
   "outputs": [
    {
     "data": {
      "image/png": "[encoded data removed]",
      "text/plain": [
       "<matplotlib.figure.Figure at 0x7f21fdf2f4a8>"
      ]
     },
     "metadata": {},
     "output_type": "display_data"
    },
    {
     "data": {
      "image/png": "[encoded data removed]",
      "text/plain": [
       "<matplotlib.figure.Figure at 0x7f21fe2e5358>"
      ]
     },
     "metadata": {},
     "output_type": "display_data"
    },
    {
     "data": {
      "image/png": "[encoded data removed]",
      "text/plain": [
       "<matplotlib.figure.Figure at 0x7f21fe140898>"
      ]
     },
     "metadata": {},
     "output_type": "display_data"
    }
   ],
   "source": [
    "fig = plt.figure(figsize=(14, 4))\n",
    "for i in range(7):\n",
    "    fig.add_subplot(1,7,i + 1)\n",
    "    plt.imshow(X_train[i].reshape(28, 28), cmap='gray')\n",
    "plt.show()\n",
    "fig = plt.figure(figsize=(14, 4))\n",
    "for i in range(7):\n",
    "    fig.add_subplot(1,7,i + 1)\n",
    "    plt.imshow(X_train[1000 + i].reshape(28, 28), cmap='gray')\n",
    "plt.show()\n",
    "fig = plt.figure(figsize=(14, 4))\n",
    "for i in range(7):\n",
    "    fig.add_subplot(1,7,i + 1)\n",
    "    plt.imshow(X_train[6000 + i].reshape(28, 28), cmap='gray')\n",
    "plt.show()"
   ]
  },
  {
   "cell_type": "markdown",
   "metadata": {},
   "source": [
    "### Решение с помощью собственной реализации"
   ]
  },
  {
   "cell_type": "markdown",
   "metadata": {},
   "source": [
    "Инициализация сети"
   ]
  },
  {
   "cell_type": "code",
   "execution_count": 59,
   "metadata": {
    "collapsed": true
   },
   "outputs": [],
   "source": [
    "net = Sequential()\n",
    "net.add(Linear(28*28, 512))\n",
    "net.add(ReLU())\n",
    "net.add(Linear(512, 512))\n",
    "net.add(ReLU())\n",
    "net.add(Linear(512, 10))\n",
    "net.add(SoftMax())\n",
    "criterion = CrossEntropyCriterion()"
   ]
  },
  {
   "cell_type": "code",
   "execution_count": 60,
   "metadata": {
    "collapsed": true
   },
   "outputs": [],
   "source": [
    "loss_train_history = []\n",
    "loss_validation_history = []\n",
    "optimizer_config = {'learning_rate' : 0.01, 'momentum': 0.9}\n",
    "optimizer_state = {}"
   ]
  },
  {
   "cell_type": "markdown",
   "metadata": {},
   "source": [
    "Обучение"
   ]
  },
  {
   "cell_type": "code",
   "execution_count": 61,
   "metadata": {
    "collapsed": false
   },
   "outputs": [
    {
     "name": "stdout",
     "output_type": "stream",
     "text": [
      "epoch 0: rate = 0.010000, loss_train = 0.309063, loss_test = 0.280168\n",
      "epoch 1: rate = 0.010000, loss_train = 0.312888, loss_test = 0.352510\n",
      "epoch 2: rate = 0.010000, loss_train = 0.148402, loss_test = 0.206059\n",
      "epoch 3: rate = 0.010000, loss_train = 0.143679, loss_test = 0.120572\n",
      "epoch 4: rate = 0.010000, loss_train = 0.120659, loss_test = 0.151286\n",
      "epoch 5: rate = 0.010000, loss_train = 0.072377, loss_test = 0.115541\n",
      "epoch 6: rate = 0.010000, loss_train = 0.076168, loss_test = 0.101089\n",
      "epoch 7: rate = 0.010000, loss_train = 0.182779, loss_test = 0.120116\n",
      "epoch 8: rate = 0.010000, loss_train = 0.048041, loss_test = 0.075915\n",
      "epoch 9: rate = 0.010000, loss_train = 0.029272, loss_test = 0.117976\n",
      "epoch 10: rate = 0.010000, loss_train = 0.027926, loss_test = 0.086635\n",
      "epoch 11: rate = 0.010000, loss_train = 0.033766, loss_test = 0.011922\n",
      "epoch 12: rate = 0.010000, loss_train = 0.030182, loss_test = 0.025503\n",
      "epoch 13: rate = 0.010000, loss_train = 0.023543, loss_test = 0.055808\n",
      "epoch 14: rate = 0.010000, loss_train = 0.041249, loss_test = 0.017968\n"
     ]
    }
   ],
   "source": [
    "n_epoch=15\n",
    "batch_size=128\n",
    "learning_rate=0.01\n",
    "\n",
    "for i in range(n_epoch):\n",
    "\n",
    "    for x_batch, y_batch in get_batches(X_train, y_train, batch_size):\n",
    "        net.zeroGradParameters()\n",
    "\n",
    "        predictions = net.forward(x_batch)\n",
    "        loss_train = criterion.forward(predictions, y_batch)\n",
    "        loss_train_history.append(loss_train)\n",
    "\n",
    "        dp = criterion.backward(predictions, y_batch)\n",
    "        net.backward(x_batch, dp)\n",
    "\n",
    "        sgd_momentum(net.getParameters(), net.getGradParameters(), optimizer_config, optimizer_state)      \n",
    "\n",
    "        test_idx = np.random.randint(0, X_test.shape[0], batch_size)\n",
    "        loss_test = criterion.forward(net.forward(X_test[test_idx]),y_test[test_idx])\n",
    "        loss_validation_history.append(loss_test)\n",
    "\n",
    "    print('epoch %s: rate = %f, loss_train = %f, loss_test = %f' % (i, learning_rate, loss_train, loss_test))    \n"
   ]
  },
  {
   "cell_type": "markdown",
   "metadata": {},
   "source": [
    "Видим, что ошибка монотонно (почти) убывает и равна адекватному небольшому числу в районе $0.01$-$0.03$, значит данная реализация нейронной сети работает правильно."
   ]
  },
  {
   "cell_type": "markdown",
   "metadata": {},
   "source": [
    "## Классификация изображений на примере CIFAR-10\n",
    "\n",
    "В данном задании вам предлагается попробовать различные архитектуры нейронный сетей в задаче классификации изображений. Для экспериментов будет использоваться база маленьких изображений [CIFAR-10](https://www.cs.toronto.edu/~kriz/cifar.html). Данная база состоит из цветных изображений размером 32x32 пикселя разделенных на 10 непересекающихся классов.\n",
    "\n",
    "<img src=\"https://thkimorgblog.files.wordpress.com/2016/03/e18489e185b3e1848fe185b3e18485e185b5e186abe18489e185a3e186ba-2016-03-12-e1848be185a9e1848ce185a5e186ab-1-02-16.png\" width=500>\n",
    "</img>\n",
    "\n",
    "В обучающей выборке содержится 50000 примеров по 5000 примеров на каждый класс. Тестовая выборка состоит из 10000 изображений.\n",
    "\n",
    "\n",
    "Загрузите [файл](https://www.cs.toronto.edu/~kriz/cifar-10-python.tar.gz) базы. В файле вы найдете обучающую выборку разделенную на пять частей data$\\_$batch$\\_$[1-5] и тестовую выборку test_batch. Каждую из частей можно загрузить с помощью следующей функции:"
   ]
  },
  {
   "cell_type": "code",
   "execution_count": 2,
   "metadata": {
    "collapsed": true
   },
   "outputs": [],
   "source": [
    "import codecs\n",
    "import cPickle\n",
    "\n",
    "def unpickle(file):\n",
    "    fo = codecs.open(file, 'rb')\n",
    "    dict = cPickle.load(fo)\n",
    "    fo.close()\n",
    "    return dict"
   ]
  },
  {
   "cell_type": "markdown",
   "metadata": {},
   "source": [
    "Каждая часть представляет из себя <i>dict</i> объект. Элемент объекта <b>labels</b> содержит список меток изображений (цифры от 0 до 9), а <b>data</b> содержит numpy массив изображений. Данный массив имеет размерность (10000, 3072), то есть каждая строка представляет из себя изображение. Первые 1024 элемента массива соответствуют красному каналу изображения, вторые 1024 элемента $-$ зеленому, последние 1024 элемента $-$ синему. Сами изображения записаны построчно, то есть в рамках 1024 значений, соответствующих каждому из каналов, первые 32 значения $-$ это первая строчка изображения, вторые 32 значения $-$ вторая и т.д.\n",
    "\n",
    "Загрузите датасет, объединив все обучающие батчи в одну матрицу."
   ]
  },
  {
   "cell_type": "code",
   "execution_count": 3,
   "metadata": {
    "collapsed": true
   },
   "outputs": [],
   "source": [
    "import numpy as np\n",
    "import pandas as pd\n",
    "\n",
    "%matplotlib inline\n",
    "import matplotlib.pyplot as plt"
   ]
  },
  {
   "cell_type": "code",
   "execution_count": 4,
   "metadata": {
    "collapsed": false
   },
   "outputs": [],
   "source": [
    "data_batch_1 = unpickle('cifar-10-batches-py/data_batch_1')\n",
    "data_batch_2 = unpickle('cifar-10-batches-py/data_batch_2')\n",
    "data_batch_3 = unpickle('cifar-10-batches-py/data_batch_3')\n",
    "data_batch_4 = unpickle('cifar-10-batches-py/data_batch_4')\n",
    "data_batch_5 = unpickle('cifar-10-batches-py/data_batch_5')\n",
    "labels_train = np.array(data_batch_1['labels'] + data_batch_2['labels'] + data_batch_3['labels'] \\\n",
    "                + data_batch_4['labels'] + data_batch_5['labels'])\n",
    "data_train = np.vstack([data_batch_1['data'], data_batch_2['data'], data_batch_3['data'], \\\n",
    "                     data_batch_4['data'], data_batch_5['data']])"
   ]
  },
  {
   "cell_type": "code",
   "execution_count": 5,
   "metadata": {
    "collapsed": true
   },
   "outputs": [],
   "source": [
    "test_batch = unpickle('cifar-10-batches-py/test_batch')\n",
    "labels_test = np.array(test_batch['labels'])\n",
    "data_test = test_batch['data']"
   ]
  },
  {
   "cell_type": "code",
   "execution_count": 6,
   "metadata": {
    "collapsed": false
   },
   "outputs": [
    {
     "name": "stdout",
     "output_type": "stream",
     "text": [
      "(50000,)\n",
      "(50000, 3072)\n"
     ]
    }
   ],
   "source": [
    "print labels_train.shape\n",
    "print data_train.shape"
   ]
  },
  {
   "cell_type": "code",
   "execution_count": 7,
   "metadata": {
    "collapsed": false
   },
   "outputs": [
    {
     "name": "stdout",
     "output_type": "stream",
     "text": [
      "(10000,)\n",
      "(10000, 3072)\n"
     ]
    }
   ],
   "source": [
    "print labels_test.shape\n",
    "print data_test.shape"
   ]
  },
  {
   "cell_type": "markdown",
   "metadata": {},
   "source": [
    "**(0.5 балла)** С помощью библиотеки [keras](https://keras.io/) обучите небольшую полносвязную сеть на базе CIFAR-10. Сеть должна состоять из двух слоев по 512 нейронов, в качестве функций активации используйте [ReLU](https://en.wikipedia.org/wiki/Rectifier_(neural_networks). Для обучения сети используйте стохастический градиентный спуск с [моментумом Нестерова](https://keras.io/optimizers/#sgd). Попытайтесь подобрать начальный <i>learning rate</i>, темп его снижения <i>decay</i>, а также коэффициенты l2 регуляризаторов на весовые коэффициенты сети так, чтобы получить наилучшее качество классификации на тестовой выборке (значение функции потерь cross-entropy и топ-1 ошибку классификации). Диапазоны параметров, с которыми можно провести эксперименты:\n",
    "- <i>learning rate</i> в диапазоне от 0.005 до 0.1\n",
    "- decay в диапазоне от 1e-9 до 1e-5\n",
    "- l2 регуляризация от 1e-6 до 1e-4\n",
    "\n",
    "Перед обучением необходимо нормализовать обучающую выборку так, чтобы все входные значения были в интервале [0;1]."
   ]
  },
  {
   "cell_type": "code",
   "execution_count": 8,
   "metadata": {
    "collapsed": false
   },
   "outputs": [
    {
     "name": "stderr",
     "output_type": "stream",
     "text": [
      "Using TensorFlow backend.\n"
     ]
    }
   ],
   "source": [
    "import keras\n",
    "from keras.models import Sequential                                    \n",
    "from keras.layers import Dense, Activation, Dropout                   \n",
    "from keras.optimizers import SGD                              \n",
    "from keras.utils.np_utils import to_categorical\n",
    "from keras.regularizers import l2\n",
    "from keras import backend as K"
   ]
  },
  {
   "cell_type": "code",
   "execution_count": 9,
   "metadata": {
    "collapsed": true
   },
   "outputs": [],
   "source": [
    "def preprocess(X, y):\n",
    "    X = X.astype('float32')\n",
    "    X /= 255\n",
    "    y = to_categorical(y, 10)\n",
    "    return X, y"
   ]
  },
  {
   "cell_type": "code",
   "execution_count": 10,
   "metadata": {
    "collapsed": false
   },
   "outputs": [],
   "source": [
    "X_train, y_train = preprocess(data_train, labels_train)\n",
    "X_test, y_test = preprocess(data_test, labels_test)"
   ]
  },
  {
   "cell_type": "code",
   "execution_count": 12,
   "metadata": {
    "collapsed": false,
    "scrolled": true
   },
   "outputs": [
    {
     "name": "stdout",
     "output_type": "stream",
     "text": [
      "Train on 50000 samples, validate on 10000 samples\n",
      "Epoch 1/30\n",
      "50000/50000 [==============================] - 56s - loss: 2.1104 - acc: 0.2815 - val_loss: 1.8089 - val_acc: 0.3605\n",
      "Epoch 2/30\n",
      "50000/50000 [==============================] - 55s - loss: 1.9066 - acc: 0.3679 - val_loss: 1.6852 - val_acc: 0.3978\n",
      "Epoch 3/30\n",
      "50000/50000 [==============================] - 56s - loss: 1.8287 - acc: 0.3955 - val_loss: 1.6246 - val_acc: 0.4287\n",
      "Epoch 4/30\n",
      "50000/50000 [==============================] - 54s - loss: 1.7734 - acc: 0.4151 - val_loss: 1.5711 - val_acc: 0.4416\n",
      "Epoch 5/30\n",
      "50000/50000 [==============================] - 48s - loss: 1.7325 - acc: 0.4304 - val_loss: 1.5501 - val_acc: 0.4545\n",
      "Epoch 6/30\n",
      "50000/50000 [==============================] - 48s - loss: 1.6966 - acc: 0.4447 - val_loss: 1.5276 - val_acc: 0.4604\n",
      "Epoch 7/30\n",
      "50000/50000 [==============================] - 47s - loss: 1.6690 - acc: 0.4530 - val_loss: 1.4788 - val_acc: 0.4751\n",
      "Epoch 8/30\n",
      "50000/50000 [==============================] - 48s - loss: 1.6421 - acc: 0.4612 - val_loss: 1.4597 - val_acc: 0.4848\n",
      "Epoch 9/30\n",
      "50000/50000 [==============================] - 48s - loss: 1.6190 - acc: 0.4713 - val_loss: 1.4526 - val_acc: 0.4857\n",
      "Epoch 10/30\n",
      "50000/50000 [==============================] - 48s - loss: 1.5989 - acc: 0.4768 - val_loss: 1.4191 - val_acc: 0.4963\n",
      "Epoch 11/30\n",
      "50000/50000 [==============================] - 48s - loss: 1.5776 - acc: 0.4842 - val_loss: 1.4055 - val_acc: 0.5010\n",
      "Epoch 12/30\n",
      "50000/50000 [==============================] - 48s - loss: 1.5676 - acc: 0.4897 - val_loss: 1.4067 - val_acc: 0.4967\n",
      "Epoch 13/30\n",
      "50000/50000 [==============================] - 48s - loss: 1.5466 - acc: 0.4956 - val_loss: 1.4040 - val_acc: 0.5062\n",
      "Epoch 14/30\n",
      "50000/50000 [==============================] - 48s - loss: 1.5312 - acc: 0.4988 - val_loss: 1.3743 - val_acc: 0.5122\n",
      "Epoch 15/30\n",
      "50000/50000 [==============================] - 48s - loss: 1.5160 - acc: 0.5042 - val_loss: 1.3901 - val_acc: 0.4977\n",
      "Epoch 16/30\n",
      "50000/50000 [==============================] - 48s - loss: 1.5036 - acc: 0.5108 - val_loss: 1.3666 - val_acc: 0.5151\n",
      "Epoch 17/30\n",
      "50000/50000 [==============================] - 48s - loss: 1.4928 - acc: 0.5114 - val_loss: 1.3735 - val_acc: 0.5077\n",
      "Epoch 18/30\n",
      "50000/50000 [==============================] - 48s - loss: 1.4785 - acc: 0.5160 - val_loss: 1.3338 - val_acc: 0.5227\n",
      "Epoch 19/30\n",
      "50000/50000 [==============================] - 48s - loss: 1.4675 - acc: 0.5202 - val_loss: 1.3426 - val_acc: 0.5192\n",
      "Epoch 20/30\n",
      "50000/50000 [==============================] - 49s - loss: 1.4554 - acc: 0.5251 - val_loss: 1.3322 - val_acc: 0.5332\n",
      "Epoch 21/30\n",
      "50000/50000 [==============================] - 49s - loss: 1.4424 - acc: 0.5279 - val_loss: 1.3410 - val_acc: 0.5164\n",
      "Epoch 22/30\n",
      "50000/50000 [==============================] - 49s - loss: 1.4267 - acc: 0.5323 - val_loss: 1.3361 - val_acc: 0.5313\n",
      "Epoch 23/30\n",
      "50000/50000 [==============================] - 49s - loss: 1.4205 - acc: 0.5373 - val_loss: 1.3043 - val_acc: 0.5328\n",
      "Epoch 24/30\n",
      "50000/50000 [==============================] - 49s - loss: 1.4050 - acc: 0.5430 - val_loss: 1.2967 - val_acc: 0.5385\n",
      "Epoch 25/30\n",
      "50000/50000 [==============================] - 49s - loss: 1.3946 - acc: 0.5462 - val_loss: 1.3015 - val_acc: 0.5350\n",
      "Epoch 26/30\n",
      "50000/50000 [==============================] - 48s - loss: 1.3870 - acc: 0.5477 - val_loss: 1.2951 - val_acc: 0.5374\n",
      "Epoch 27/30\n",
      "50000/50000 [==============================] - 49s - loss: 1.3834 - acc: 0.5489 - val_loss: 1.3144 - val_acc: 0.5309\n",
      "Epoch 28/30\n",
      "50000/50000 [==============================] - 49s - loss: 1.3715 - acc: 0.5535 - val_loss: 1.3127 - val_acc: 0.5280\n",
      "Epoch 29/30\n",
      "50000/50000 [==============================] - 49s - loss: 1.3578 - acc: 0.5580 - val_loss: 1.2791 - val_acc: 0.5430\n",
      "Epoch 30/30\n",
      "50000/50000 [==============================] - 49s - loss: 1.3467 - acc: 0.5617 - val_loss: 1.2934 - val_acc: 0.5377\n",
      "10000/10000 [==============================] - 2s     \n",
      "[1.2933717872619628, 0.53769999999999996]\n"
     ]
    }
   ],
   "source": [
    "model = Sequential()\n",
    "\n",
    "model.add(Dense(512, input_dim=len(X_train[0]), init='uniform', W_regularizer=l2(1e-4)))\n",
    "model.add(Activation('relu'))\n",
    "model.add(Dropout(0.3))\n",
    "model.add(Dense(512, init='uniform'))\n",
    "model.add(Activation('relu'))\n",
    "model.add(Dropout(0.3))\n",
    "model.add(Dense(10, init='uniform'))\n",
    "model.add(Activation('softmax'))\n",
    "\n",
    "sgd = SGD(lr=0.005, momentum=0.9, decay=1e-8, nesterov=True)\n",
    "model.compile(loss='categorical_crossentropy',\n",
    "        optimizer=sgd,\n",
    "        metrics=['accuracy'])\n",
    "\n",
    "history = model.fit(X_train, y_train,\n",
    "        nb_epoch=30,\n",
    "        batch_size=128,\n",
    "        verbose=1,\n",
    "        validation_data=(X_test, y_test))\n",
    "\n",
    "score = model.evaluate(X_test, y_test, batch_size=128)\n",
    "print score"
   ]
  },
  {
   "cell_type": "code",
   "execution_count": 14,
   "metadata": {
    "collapsed": false
   },
   "outputs": [
    {
     "data": {
      "image/png": "[encoded data removed]",
      "text/plain": [
       "<matplotlib.figure.Figure at 0x7f33a3295490>"
      ]
     },
     "metadata": {},
     "output_type": "display_data"
    }
   ],
   "source": [
    "train_error = 1 - np.array(history.history['acc'])\n",
    "val_error = 1 - np.array(history.history['val_acc'])\n",
    "\n",
    "plt.figure(figsize=(8, 4))\n",
    "plt.plot(train_error, label = 'train')\n",
    "plt.plot(val_error, label = 'test')\n",
    "plt.title('error')\n",
    "plt.xlabel('Train epoch')\n",
    "plt.ylabel('Error')\n",
    "plt.legend()\n",
    "plt.show()"
   ]
  },
  {
   "cell_type": "markdown",
   "metadata": {},
   "source": [
    "Попробуем немного повысить learning rate и decay (большим learning rate лучше не делать, так как в этом случае велик риск застрять в локальном минимуме функции потерь). Также немного понизим регуляризацию."
   ]
  },
  {
   "cell_type": "code",
   "execution_count": 16,
   "metadata": {
    "collapsed": false,
    "scrolled": true
   },
   "outputs": [
    {
     "name": "stdout",
     "output_type": "stream",
     "text": [
      "Train on 50000 samples, validate on 10000 samples\n",
      "Epoch 1/30\n",
      "50000/50000 [==============================] - 48s - loss: 1.9249 - acc: 0.3093 - val_loss: 1.7276 - val_acc: 0.3889\n",
      "Epoch 2/30\n",
      "50000/50000 [==============================] - 49s - loss: 1.7404 - acc: 0.3800 - val_loss: 1.6312 - val_acc: 0.4234\n",
      "Epoch 3/30\n",
      "50000/50000 [==============================] - 55s - loss: 1.6747 - acc: 0.4053 - val_loss: 1.5693 - val_acc: 0.4398\n",
      "Epoch 4/30\n",
      "50000/50000 [==============================] - 50s - loss: 1.6318 - acc: 0.4236 - val_loss: 1.5302 - val_acc: 0.4602\n",
      "Epoch 5/30\n",
      "50000/50000 [==============================] - 50s - loss: 1.5977 - acc: 0.4356 - val_loss: 1.5585 - val_acc: 0.4304\n",
      "Epoch 6/30\n",
      "50000/50000 [==============================] - 49s - loss: 1.5662 - acc: 0.4474 - val_loss: 1.4873 - val_acc: 0.4654\n",
      "Epoch 7/30\n",
      "50000/50000 [==============================] - 49s - loss: 1.5392 - acc: 0.4539 - val_loss: 1.4817 - val_acc: 0.4746\n",
      "Epoch 8/30\n",
      "50000/50000 [==============================] - 51s - loss: 1.5193 - acc: 0.4619 - val_loss: 1.4513 - val_acc: 0.4856\n",
      "Epoch 9/30\n",
      "50000/50000 [==============================] - 52s - loss: 1.4999 - acc: 0.4711 - val_loss: 1.4341 - val_acc: 0.4940\n",
      "Epoch 10/30\n",
      "50000/50000 [==============================] - 51s - loss: 1.4833 - acc: 0.4748 - val_loss: 1.4161 - val_acc: 0.4938\n",
      "Epoch 11/30\n",
      "50000/50000 [==============================] - 50s - loss: 1.4615 - acc: 0.4832 - val_loss: 1.4060 - val_acc: 0.4946\n",
      "Epoch 12/30\n",
      "50000/50000 [==============================] - 50s - loss: 1.4435 - acc: 0.4865 - val_loss: 1.4021 - val_acc: 0.4993\n",
      "Epoch 13/30\n",
      "50000/50000 [==============================] - 50s - loss: 1.4289 - acc: 0.4929 - val_loss: 1.3840 - val_acc: 0.5025\n",
      "Epoch 14/30\n",
      "50000/50000 [==============================] - 52s - loss: 1.4098 - acc: 0.5036 - val_loss: 1.3801 - val_acc: 0.5124\n",
      "Epoch 15/30\n",
      "50000/50000 [==============================] - 51s - loss: 1.3995 - acc: 0.5027 - val_loss: 1.3558 - val_acc: 0.5145\n",
      "Epoch 16/30\n",
      "50000/50000 [==============================] - 51s - loss: 1.3870 - acc: 0.5093 - val_loss: 1.3745 - val_acc: 0.5076\n",
      "Epoch 17/30\n",
      "50000/50000 [==============================] - 51s - loss: 1.3705 - acc: 0.5163 - val_loss: 1.3418 - val_acc: 0.5213\n",
      "Epoch 18/30\n",
      "50000/50000 [==============================] - 49s - loss: 1.3600 - acc: 0.5170 - val_loss: 1.3381 - val_acc: 0.5253\n",
      "Epoch 19/30\n",
      "50000/50000 [==============================] - 48s - loss: 1.3424 - acc: 0.5276 - val_loss: 1.3449 - val_acc: 0.5188\n",
      "Epoch 20/30\n",
      "50000/50000 [==============================] - 49s - loss: 1.3313 - acc: 0.5289 - val_loss: 1.3343 - val_acc: 0.5161\n",
      "Epoch 21/30\n",
      "50000/50000 [==============================] - 48s - loss: 1.3224 - acc: 0.5334 - val_loss: 1.3253 - val_acc: 0.5254\n",
      "Epoch 22/30\n",
      "50000/50000 [==============================] - 48s - loss: 1.3098 - acc: 0.5347 - val_loss: 1.3163 - val_acc: 0.5273\n",
      "Epoch 23/30\n",
      "50000/50000 [==============================] - 48s - loss: 1.2985 - acc: 0.5405 - val_loss: 1.3156 - val_acc: 0.5285\n",
      "Epoch 24/30\n",
      "50000/50000 [==============================] - 48s - loss: 1.2910 - acc: 0.5437 - val_loss: 1.3040 - val_acc: 0.5385\n",
      "Epoch 25/30\n",
      "50000/50000 [==============================] - 48s - loss: 1.2762 - acc: 0.5473 - val_loss: 1.2959 - val_acc: 0.5389\n",
      "Epoch 26/30\n",
      "50000/50000 [==============================] - 50s - loss: 1.2698 - acc: 0.5506 - val_loss: 1.2885 - val_acc: 0.5392\n",
      "Epoch 27/30\n",
      "50000/50000 [==============================] - 55s - loss: 1.2638 - acc: 0.5535 - val_loss: 1.2979 - val_acc: 0.5376\n",
      "Epoch 28/30\n",
      "50000/50000 [==============================] - 51s - loss: 1.2582 - acc: 0.5547 - val_loss: 1.3054 - val_acc: 0.5305\n",
      "Epoch 29/30\n",
      "50000/50000 [==============================] - 49s - loss: 1.2471 - acc: 0.5590 - val_loss: 1.2894 - val_acc: 0.5398\n",
      "Epoch 30/30\n",
      "50000/50000 [==============================] - 52s - loss: 1.2331 - acc: 0.5639 - val_loss: 1.2796 - val_acc: 0.5461\n",
      "10000/10000 [==============================] - 2s     \n",
      "[1.2796147747039794, 0.54610000000000003]\n"
     ]
    }
   ],
   "source": [
    "model2 = Sequential()\n",
    "\n",
    "model2.add(Dense(512, input_dim=len(X_train[0]), init='uniform', W_regularizer=l2(1e-5)))\n",
    "model2.add(Activation('relu'))\n",
    "model2.add(Dropout(0.3))\n",
    "model2.add(Dense(512, init='uniform'))\n",
    "model2.add(Activation('relu'))\n",
    "model2.add(Dropout(0.3))\n",
    "model2.add(Dense(10, init='uniform'))\n",
    "model2.add(Activation('softmax'))\n",
    "\n",
    "sgd2 = SGD(lr=0.01, momentum=0.9, decay=1e-6, nesterov=True)\n",
    "model2.compile(loss='categorical_crossentropy',\n",
    "        optimizer=sgd2,\n",
    "        metrics=['accuracy'])\n",
    "\n",
    "history2 = model2.fit(X_train, y_train,\n",
    "        nb_epoch=30,\n",
    "        batch_size=128,\n",
    "        verbose=1,\n",
    "        validation_data=(X_test, y_test))\n",
    "\n",
    "score2 = model2.evaluate(X_test, y_test, batch_size=128)\n",
    "print score2"
   ]
  },
  {
   "cell_type": "code",
   "execution_count": 17,
   "metadata": {
    "collapsed": false
   },
   "outputs": [
    {
     "data": {
      "image/png": "[encoded data removed]",
      "text/plain": [
       "<matplotlib.figure.Figure at 0x7f33710c6c10>"
      ]
     },
     "metadata": {},
     "output_type": "display_data"
    }
   ],
   "source": [
    "train_error2 = 1 - np.array(history2.history['acc'])\n",
    "val_error2 = 1 - np.array(history2.history['val_acc'])\n",
    "\n",
    "plt.figure(figsize=(8, 4))\n",
    "plt.plot(train_error2, label = 'train')\n",
    "plt.plot(val_error2, label = 'test')\n",
    "plt.title('error')\n",
    "plt.xlabel('Train epoch')\n",
    "plt.ylabel('Error')\n",
    "plt.legend()\n",
    "plt.show()"
   ]
  },
  {
   "cell_type": "markdown",
   "metadata": {},
   "source": [
    "**Сравнение двух моделей:**"
   ]
  },
  {
   "cell_type": "code",
   "execution_count": 25,
   "metadata": {
    "collapsed": false
   },
   "outputs": [
    {
     "data": {
      "image/png": "[encoded data removed]",
      "text/plain": [
       "<matplotlib.figure.Figure at 0x7f3370425e50>"
      ]
     },
     "metadata": {},
     "output_type": "display_data"
    }
   ],
   "source": [
    "plt.figure(figsize=(12, 8))\n",
    "plt.plot(val_error, label = 'first model')\n",
    "plt.plot(val_error2, label = 'second model')\n",
    "plt.title('error, two models')\n",
    "plt.xlabel('Train epoch')\n",
    "plt.ylabel('Error')\n",
    "plt.legend()\n",
    "plt.show()"
   ]
  },
  {
   "cell_type": "code",
   "execution_count": 27,
   "metadata": {
    "collapsed": false
   },
   "outputs": [
    {
     "data": {
      "image/png": "[encoded data removed]",
      "text/plain": [
       "<matplotlib.figure.Figure at 0x7f3370336d50>"
      ]
     },
     "metadata": {},
     "output_type": "display_data"
    }
   ],
   "source": [
    "val_loss = np.array(history.history['val_loss'])\n",
    "val_loss2 = np.array(history2.history['val_loss'])\n",
    "\n",
    "plt.figure(figsize=(12, 8))\n",
    "plt.plot(val_loss, label = 'first model')\n",
    "plt.plot(val_loss2, label = 'second model')\n",
    "plt.title('loss, two models')\n",
    "plt.xlabel('Train epoch')\n",
    "plt.ylabel('Error')\n",
    "plt.legend()\n",
    "plt.show()"
   ]
  },
  {
   "cell_type": "markdown",
   "metadata": {},
   "source": [
    "Две модели ведут себя похоже, но все-таки вторая чуть лучше. Остановлюсь на второй."
   ]
  },
  {
   "cell_type": "markdown",
   "metadata": {},
   "source": [
    "**(0.5 балла)** Поэкспериментируйте с размером сети: попробуйте увеличить количество нейронов в каждом слое и общую глубину сети.  Наблюдается ли сильное повышение качества классификации на тестовой выборке?"
   ]
  },
  {
   "cell_type": "code",
   "execution_count": 33,
   "metadata": {
    "collapsed": true
   },
   "outputs": [],
   "source": [
    "def compute_deep_net(num_layers, num_neurons, X_train, y_train, X_test, y_test):\n",
    "    print 'Training neural net with', num_layers, 'layers and', num_neurons, 'neurons'\n",
    "    deep_model = Sequential()\n",
    "    deep_model.add(Dense(num_neurons, input_dim=len(X_train[0]), init='uniform', W_regularizer=l2(1e-5)))\n",
    "    deep_model.add(Activation('relu'))\n",
    "    deep_model.add(Dropout(0.3))\n",
    "    \n",
    "    for n_layer in range(num_layers - 1):\n",
    "        deep_model.add(Dense(num_neurons, init='uniform', W_regularizer=l2(1e-5)))\n",
    "        deep_model.add(Activation('relu'))\n",
    "        deep_model.add(Dropout(0.3))\n",
    "\n",
    "    deep_model.add(Dense(10, init='uniform', W_regularizer=l2(1e-5)))\n",
    "    deep_model.add(Activation('softmax'))\n",
    "\n",
    "    sgd_deep = SGD(lr=0.01, momentum=0.9, decay=1e-6, nesterov=True)\n",
    "    deep_model.compile(loss='categorical_crossentropy',\n",
    "            optimizer=sgd_deep,\n",
    "            metrics=['accuracy'])\n",
    "\n",
    "    history_deep = deep_model.fit(X_train, y_train,\n",
    "            nb_epoch=30,\n",
    "            batch_size=128,\n",
    "            verbose=1,\n",
    "            validation_data=(X_test, y_test))\n",
    "    return deep_model, history_deep"
   ]
  },
  {
   "cell_type": "markdown",
   "metadata": {},
   "source": [
    "Обучим 4-хслойную сеть с 768 нейронами:"
   ]
  },
  {
   "cell_type": "code",
   "execution_count": 34,
   "metadata": {
    "collapsed": false,
    "scrolled": true
   },
   "outputs": [
    {
     "name": "stdout",
     "output_type": "stream",
     "text": [
      "Training neural net with 4 layers and 768 neurons\n",
      "Train on 50000 samples, validate on 10000 samples\n",
      "Epoch 1/30\n",
      "50000/50000 [==============================] - 152s - loss: 2.0309 - acc: 0.2610 - val_loss: 1.8156 - val_acc: 0.3408\n",
      "Epoch 2/30\n",
      "50000/50000 [==============================] - 147s - loss: 1.8150 - acc: 0.3567 - val_loss: 1.6678 - val_acc: 0.3966\n",
      "Epoch 3/30\n",
      "50000/50000 [==============================] - 145s - loss: 1.7456 - acc: 0.3862 - val_loss: 1.5861 - val_acc: 0.4330\n",
      "Epoch 4/30\n",
      "50000/50000 [==============================] - 149s - loss: 1.7001 - acc: 0.4006 - val_loss: 1.5579 - val_acc: 0.4396\n",
      "Epoch 5/30\n",
      "50000/50000 [==============================] - 142s - loss: 1.6646 - acc: 0.4155 - val_loss: 1.5502 - val_acc: 0.4462\n",
      "Epoch 6/30\n",
      "50000/50000 [==============================] - 118s - loss: 1.6388 - acc: 0.4244 - val_loss: 1.5096 - val_acc: 0.4556\n",
      "Epoch 7/30\n",
      "50000/50000 [==============================] - 114s - loss: 1.6077 - acc: 0.4341 - val_loss: 1.4738 - val_acc: 0.4742\n",
      "Epoch 8/30\n",
      "50000/50000 [==============================] - 113s - loss: 1.5835 - acc: 0.4442 - val_loss: 1.4648 - val_acc: 0.4749\n",
      "Epoch 9/30\n",
      "50000/50000 [==============================] - 134s - loss: 1.5585 - acc: 0.4500 - val_loss: 1.5022 - val_acc: 0.4547\n",
      "Epoch 10/30\n",
      "50000/50000 [==============================] - 149s - loss: 1.5407 - acc: 0.4576 - val_loss: 1.4608 - val_acc: 0.4794\n",
      "Epoch 11/30\n",
      "50000/50000 [==============================] - 146s - loss: 1.5218 - acc: 0.4627 - val_loss: 1.4893 - val_acc: 0.4628\n",
      "Epoch 12/30\n",
      "50000/50000 [==============================] - 152s - loss: 1.5081 - acc: 0.4707 - val_loss: 1.4452 - val_acc: 0.4763\n",
      "Epoch 13/30\n",
      "50000/50000 [==============================] - 156s - loss: 1.4905 - acc: 0.4758 - val_loss: 1.4160 - val_acc: 0.4968\n",
      "Epoch 14/30\n",
      "50000/50000 [==============================] - 142s - loss: 1.4741 - acc: 0.4816 - val_loss: 1.3813 - val_acc: 0.5038\n",
      "Epoch 15/30\n",
      "50000/50000 [==============================] - 148s - loss: 1.4605 - acc: 0.4875 - val_loss: 1.3899 - val_acc: 0.5054\n",
      "Epoch 16/30\n",
      "50000/50000 [==============================] - 145s - loss: 1.4445 - acc: 0.4953 - val_loss: 1.3792 - val_acc: 0.5058\n",
      "Epoch 17/30\n",
      "50000/50000 [==============================] - 145s - loss: 1.4264 - acc: 0.4993 - val_loss: 1.3654 - val_acc: 0.5080\n",
      "Epoch 18/30\n",
      "50000/50000 [==============================] - 145s - loss: 1.4128 - acc: 0.5054 - val_loss: 1.3470 - val_acc: 0.5220\n",
      "Epoch 19/30\n",
      "50000/50000 [==============================] - 145s - loss: 1.3969 - acc: 0.5102 - val_loss: 1.3487 - val_acc: 0.5218\n",
      "Epoch 20/30\n",
      "50000/50000 [==============================] - 134s - loss: 1.3858 - acc: 0.5155 - val_loss: 1.3370 - val_acc: 0.5191\n",
      "Epoch 21/30\n",
      "50000/50000 [==============================] - 122s - loss: 1.3840 - acc: 0.5140 - val_loss: 1.3322 - val_acc: 0.5291\n",
      "Epoch 22/30\n",
      "50000/50000 [==============================] - 118s - loss: 1.3680 - acc: 0.5203 - val_loss: 1.3355 - val_acc: 0.5221\n",
      "Epoch 23/30\n",
      "50000/50000 [==============================] - 117s - loss: 1.3553 - acc: 0.5261 - val_loss: 1.3053 - val_acc: 0.5329\n",
      "Epoch 24/30\n",
      "50000/50000 [==============================] - 117s - loss: 1.3493 - acc: 0.5277 - val_loss: 1.3164 - val_acc: 0.5300\n",
      "Epoch 25/30\n",
      "50000/50000 [==============================] - 120s - loss: 1.3321 - acc: 0.5354 - val_loss: 1.3072 - val_acc: 0.5359\n",
      "Epoch 26/30\n",
      "50000/50000 [==============================] - 120s - loss: 1.3199 - acc: 0.5387 - val_loss: 1.3075 - val_acc: 0.5371\n",
      "Epoch 27/30\n",
      "50000/50000 [==============================] - 118s - loss: 1.3061 - acc: 0.5456 - val_loss: 1.3098 - val_acc: 0.5345\n",
      "Epoch 28/30\n",
      "50000/50000 [==============================] - 117s - loss: 1.3015 - acc: 0.5462 - val_loss: 1.2902 - val_acc: 0.5375\n",
      "Epoch 29/30\n",
      "50000/50000 [==============================] - 118s - loss: 1.2925 - acc: 0.5475 - val_loss: 1.2929 - val_acc: 0.5359\n",
      "Epoch 30/30\n",
      "50000/50000 [==============================] - 116s - loss: 1.2835 - acc: 0.5506 - val_loss: 1.3201 - val_acc: 0.5302\n"
     ]
    }
   ],
   "source": [
    "deep_model, history_deep = compute_deep_net(4, 768,  X_train, y_train, X_test, y_test)"
   ]
  },
  {
   "cell_type": "code",
   "execution_count": 35,
   "metadata": {
    "collapsed": false
   },
   "outputs": [
    {
     "name": "stdout",
     "output_type": "stream",
     "text": [
      "10000/10000 [==============================] - 5s     \n",
      "[1.3201499908447265, 0.5302]\n"
     ]
    }
   ],
   "source": [
    "score_deep = deep_model.evaluate(X_test, y_test, batch_size=128)\n",
    "print score_deep"
   ]
  },
  {
   "cell_type": "code",
   "execution_count": 40,
   "metadata": {
    "collapsed": false
   },
   "outputs": [
    {
     "data": {
      "image/png": "[encoded data removed]",
      "text/plain": [
       "<matplotlib.figure.Figure at 0x7f3370419a90>"
      ]
     },
     "metadata": {},
     "output_type": "display_data"
    }
   ],
   "source": [
    "val_loss_deep = np.array(history_deep.history['val_loss'])\n",
    "error_deep = 1 - np.array(history_deep.history['acc'])\n",
    "val_error_deep = 1 - np.array(history_deep.history['val_acc'])\n",
    "\n",
    "plt.figure(figsize=(8, 4))\n",
    "plt.plot(error_deep, label = 'train')\n",
    "plt.plot(val_error_deep, label = 'test')\n",
    "plt.title('deep model error')\n",
    "plt.xlabel('Train epoch')\n",
    "plt.ylabel('Error')\n",
    "plt.legend()\n",
    "plt.show()"
   ]
  },
  {
   "cell_type": "markdown",
   "metadata": {},
   "source": [
    "**Сравнение 3-х моделей:**"
   ]
  },
  {
   "cell_type": "code",
   "execution_count": 43,
   "metadata": {
    "collapsed": false
   },
   "outputs": [
    {
     "data": {
      "image/png": "[encoded data removed]",
      "text/plain": [
       "<matplotlib.figure.Figure at 0x7f334cb821d0>"
      ]
     },
     "metadata": {},
     "output_type": "display_data"
    }
   ],
   "source": [
    "plt.figure(figsize=(12, 8))\n",
    "plt.plot(val_loss, label = 'first model')\n",
    "plt.plot(val_loss2, label = 'second model')\n",
    "plt.plot(val_loss_deep, label = 'deep model')\n",
    "plt.title('loss, tree models')\n",
    "plt.xlabel('Train epoch')\n",
    "plt.ylabel('Error')\n",
    "plt.legend()\n",
    "plt.show()"
   ]
  },
  {
   "cell_type": "code",
   "execution_count": 41,
   "metadata": {
    "collapsed": false
   },
   "outputs": [
    {
     "data": {
      "image/png": "[encoded data removed]",
      "text/plain": [
       "<matplotlib.figure.Figure at 0x7f334cf1b310>"
      ]
     },
     "metadata": {},
     "output_type": "display_data"
    }
   ],
   "source": [
    "plt.figure(figsize=(12, 8))\n",
    "plt.plot(val_error, label = 'first model')\n",
    "plt.plot(val_error2, label = 'second model')\n",
    "plt.plot(val_error_deep, label = 'deep model')\n",
    "plt.title('error, tree models')\n",
    "plt.xlabel('Train epoch')\n",
    "plt.ylabel('Error')\n",
    "plt.legend()\n",
    "plt.show()"
   ]
  },
  {
   "cell_type": "markdown",
   "metadata": {},
   "source": [
    "Повышение качества классификации на тестовой выборке не наблюдается. Скорее наоборот, наблюдается снижение качества."
   ]
  },
  {
   "cell_type": "markdown",
   "metadata": {},
   "source": [
    "Теперь давайте попробуем обучить сверточную сеть небольшого размера. Для этого необходимо вначале изменить формат наших данных, так как сверточные сети работают не с векторами примеров, а с многомерными матрицами примеров. Для этого каждый пример в выборке нужно преобразовать из вектора длины 3072 в матрицу с размерностями (3, 32, 32), где каждый из элементов первой размерности отвечает за свой канал изображения."
   ]
  },
  {
   "cell_type": "code",
   "execution_count": 61,
   "metadata": {
    "collapsed": false
   },
   "outputs": [
    {
     "data": {
      "text/plain": [
       "(50000, 3, 32, 32)"
      ]
     },
     "execution_count": 61,
     "metadata": {},
     "output_type": "execute_result"
    }
   ],
   "source": [
    "X_train.reshape((50000, 3, 32, 32)).shape"
   ]
  },
  {
   "cell_type": "markdown",
   "metadata": {},
   "source": [
    "**(1 балл)** Первая сверточная сеть будет состоять из трех сверточных блоков $-$ последовательностей свертки ([Convolution2D](https://keras.io/layers/convolutional/#convolution2d)), нелинейности (ReLU) и пулинга ([MaxPooling2D](https://keras.io/layers/pooling/#maxpooling2d)). При построении сверточной нейронной сети обычно необходимо определить значения нескольких параметров:\n",
    "- количества ядер свертки, то есть различных карт признаков, в каждом из слоев\n",
    "- размеры ядер\n",
    "- тип и размер области слоя пулинга\n",
    "\n",
    "Карта признаков (feature map) $-$ это результат применения одного ядра свертки ко входам в слой, которые в свою очередь представляют собой множество карт признаков предыдущего слоя.\n",
    "\n",
    "Для текущего задания размеры фильтров во всех сверточных слоях будут равными 5x5 пикселей, размер области max-пулинга 3x3 пикселя со смещением в 2 пикселя (области пулинга будут перекрываться). Количество ядер в первой сверточном слое возьмем равным 48, во втором $-$ 64, а в третьем $-$ 128.\n",
    "\n",
    "На практике обычно используют пулинг размером 2x2 без перекрытия областей. Применение такого пулинга приводит к уменьшению в два раза размерности каждой из входных карт признаков. В следующем после пулинга сверточном слое увеличивают количество ядер в два раза. Однако в данной работе необходимо сделать достаточно небольшую и неглубокую сеть, которую можно обучить за разумное время на обычном ноутбуке, поэтому в данном задании мы отступаем от стандартных практик.\n",
    "\n",
    "После сверточных блоков необходимо добавить в сеть два полносвязных слоя размерности 512 с нелинейностями.\n",
    "Перед каждым сверточным слоем в сети необходимо добавить слои дополнения нулями входных карт признаков, для того чтобы после операции свертки размеры карт не изменялись. Для этого можете использовать слой [ZeroPadding2D](https://keras.io/layers/convolutional/#zeropadding2d). Подберите значения паддинга таким образом, чтобы после свертки 5x5 получались карты признаков такой же размерности, как и до свертки.\n",
    "\n",
    "Итоговую архитектуру сети можно вывести после применения метода <i>compile</i> с помощью:\n",
    "    \n",
    "    print model.summary()\n",
    "\n",
    "Попробуйте подобрать начальный learning rate так, чтобы избежать расхождения обучения в самом начале.\n",
    "\n",
    "Обратите внимание, что обучение подобной сети на ноутбуке в течение 15 эпох может занять около 3-х часов. Для того, чтобы убедиться в корректности составленной архитектуры можно попробовать запустить обучение на подмножестве обучающей выборки и убедиться в том, что ошибка классификации снижается."
   ]
  },
  {
   "cell_type": "code",
   "execution_count": 128,
   "metadata": {
    "collapsed": false
   },
   "outputs": [],
   "source": [
    "from keras.layers import Flatten\n",
    "from keras.layers import Reshape\n",
    "from keras.layers.convolutional import Convolution2D\n",
    "from keras.layers.convolutional import MaxPooling2D\n",
    "from keras.layers.convolutional import ZeroPadding2D"
   ]
  },
  {
   "cell_type": "code",
   "execution_count": 108,
   "metadata": {
    "collapsed": false
   },
   "outputs": [
    {
     "name": "stdout",
     "output_type": "stream",
     "text": [
      "____________________________________________________________________________________________________\n",
      "Layer (type)                     Output Shape          Param #     Connected to                     \n",
      "====================================================================================================\n",
      "zeropadding2d_54 (ZeroPadding2D) (None, 36, 36, 3)     0           zeropadding2d_input_21[0][0]     \n",
      "____________________________________________________________________________________________________\n",
      "convolution2d_70 (Convolution2D) (None, 32, 32, 48)    3648        zeropadding2d_54[0][0]           \n",
      "____________________________________________________________________________________________________\n",
      "activation_118 (Activation)      (None, 32, 32, 48)    0           convolution2d_70[0][0]           \n",
      "____________________________________________________________________________________________________\n",
      "maxpooling2d_60 (MaxPooling2D)   (None, 10, 10, 48)    0           activation_118[0][0]             \n",
      "____________________________________________________________________________________________________\n",
      "zeropadding2d_55 (ZeroPadding2D) (None, 14, 14, 48)    0           maxpooling2d_60[0][0]            \n",
      "____________________________________________________________________________________________________\n",
      "convolution2d_71 (Convolution2D) (None, 10, 10, 64)    76864       zeropadding2d_55[0][0]           \n",
      "____________________________________________________________________________________________________\n",
      "activation_119 (Activation)      (None, 10, 10, 64)    0           convolution2d_71[0][0]           \n",
      "____________________________________________________________________________________________________\n",
      "maxpooling2d_61 (MaxPooling2D)   (None, 3, 3, 64)      0           activation_119[0][0]             \n",
      "____________________________________________________________________________________________________\n",
      "zeropadding2d_56 (ZeroPadding2D) (None, 7, 7, 64)      0           maxpooling2d_61[0][0]            \n",
      "____________________________________________________________________________________________________\n",
      "convolution2d_72 (Convolution2D) (None, 3, 3, 128)     204928      zeropadding2d_56[0][0]           \n",
      "____________________________________________________________________________________________________\n",
      "activation_120 (Activation)      (None, 3, 3, 128)     0           convolution2d_72[0][0]           \n",
      "____________________________________________________________________________________________________\n",
      "maxpooling2d_62 (MaxPooling2D)   (None, 1, 1, 128)     0           activation_120[0][0]             \n",
      "____________________________________________________________________________________________________\n",
      "flatten_20 (Flatten)             (None, 128)           0           maxpooling2d_62[0][0]            \n",
      "____________________________________________________________________________________________________\n",
      "dense_53 (Dense)                 (None, 512)           66048       flatten_20[0][0]                 \n",
      "____________________________________________________________________________________________________\n",
      "activation_121 (Activation)      (None, 512)           0           dense_53[0][0]                   \n",
      "____________________________________________________________________________________________________\n",
      "dense_54 (Dense)                 (None, 512)           262656      activation_121[0][0]             \n",
      "____________________________________________________________________________________________________\n",
      "activation_122 (Activation)      (None, 512)           0           dense_54[0][0]                   \n",
      "____________________________________________________________________________________________________\n",
      "dense_55 (Dense)                 (None, 10)            5130        activation_122[0][0]             \n",
      "____________________________________________________________________________________________________\n",
      "activation_123 (Activation)      (None, 10)            0           dense_55[0][0]                   \n",
      "====================================================================================================\n",
      "Total params: 619274\n",
      "____________________________________________________________________________________________________\n",
      "None\n"
     ]
    }
   ],
   "source": [
    "model_conv = Sequential()\n",
    "model_conv.add(ZeroPadding2D(padding=(2, 2), input_shape=(32, 32, 3), dim_ordering='tf'))\n",
    "model_conv.add(Convolution2D(48, 5, 5, border_mode='valid', activation='relu'))\n",
    "model_conv.add(Activation('relu'))\n",
    "model_conv.add(MaxPooling2D(pool_size=(3, 3)))\n",
    "\n",
    "model_conv.add(ZeroPadding2D(padding=(2, 2)))\n",
    "model_conv.add(Convolution2D(64, 5, 5, border_mode='valid', activation='relu'))\n",
    "model_conv.add(Activation('relu'))\n",
    "model_conv.add(MaxPooling2D(pool_size=(3, 3)))\n",
    "          \n",
    "model_conv.add(ZeroPadding2D(padding=(2, 2)))\n",
    "model_conv.add(Convolution2D(128, 5, 5, border_mode='valid', activation='relu'))\n",
    "model_conv.add(Activation('relu'))\n",
    "model_conv.add(MaxPooling2D(pool_size=(3, 3)))\n",
    "\n",
    "model_conv.add(Flatten())\n",
    "model_conv.add(Dense(512, init='uniform'))\n",
    "model_conv.add(Activation('relu'))\n",
    "model_conv.add(Dense(512, init='uniform'))\n",
    "model_conv.add(Activation('relu'))\n",
    "model_conv.add(Dense(10, init='uniform'))\n",
    "model_conv.add(Activation('softmax'))\n",
    "\n",
    "sgd_conv = SGD(lr=0.01, decay=1e-6, momentum=0.9, nesterov=True)\n",
    "model_conv.compile(loss='categorical_crossentropy', optimizer=sgd_conv, metrics=['accuracy'])\n",
    "print(model_conv.summary())"
   ]
  },
  {
   "cell_type": "code",
   "execution_count": 109,
   "metadata": {
    "collapsed": false
   },
   "outputs": [
    {
     "name": "stdout",
     "output_type": "stream",
     "text": [
      "Train on 50000 samples, validate on 10000 samples\n",
      "Epoch 1/15\n",
      "50000/50000 [==============================] - 268s - loss: 2.3023 - acc: 0.1053 - val_loss: 2.3008 - val_acc: 0.1021\n",
      "Epoch 2/15\n",
      "50000/50000 [==============================] - 266s - loss: 2.2072 - acc: 0.1585 - val_loss: 2.0106 - val_acc: 0.2322\n",
      "Epoch 3/15\n",
      "50000/50000 [==============================] - 266s - loss: 1.8923 - acc: 0.2797 - val_loss: 1.7046 - val_acc: 0.3593\n",
      "Epoch 4/15\n",
      "50000/50000 [==============================] - 266s - loss: 1.6054 - acc: 0.4004 - val_loss: 1.6310 - val_acc: 0.4098\n",
      "Epoch 5/15\n",
      "50000/50000 [==============================] - 267s - loss: 1.3724 - acc: 0.4952 - val_loss: 1.2991 - val_acc: 0.5269\n",
      "Epoch 6/15\n",
      "50000/50000 [==============================] - 267s - loss: 1.1981 - acc: 0.5682 - val_loss: 1.1504 - val_acc: 0.5854\n",
      "Epoch 7/15\n",
      "50000/50000 [==============================] - 267s - loss: 1.0548 - acc: 0.6244 - val_loss: 1.0522 - val_acc: 0.6318\n",
      "Epoch 8/15\n",
      "50000/50000 [==============================] - 267s - loss: 0.9368 - acc: 0.6708 - val_loss: 0.9598 - val_acc: 0.6630\n",
      "Epoch 9/15\n",
      "50000/50000 [==============================] - 267s - loss: 0.8409 - acc: 0.7070 - val_loss: 0.9313 - val_acc: 0.6727\n",
      "Epoch 10/15\n",
      "50000/50000 [==============================] - 267s - loss: 0.7606 - acc: 0.7340 - val_loss: 0.8836 - val_acc: 0.6982\n",
      "Epoch 11/15\n",
      "50000/50000 [==============================] - 267s - loss: 0.6896 - acc: 0.7605 - val_loss: 0.8881 - val_acc: 0.6944\n",
      "Epoch 12/15\n",
      "50000/50000 [==============================] - 267s - loss: 0.6246 - acc: 0.7813 - val_loss: 0.9022 - val_acc: 0.6928\n",
      "Epoch 13/15\n",
      "50000/50000 [==============================] - 267s - loss: 0.5621 - acc: 0.8021 - val_loss: 0.8840 - val_acc: 0.7063\n",
      "Epoch 14/15\n",
      "50000/50000 [==============================] - 267s - loss: 0.5061 - acc: 0.8214 - val_loss: 0.8495 - val_acc: 0.7250\n",
      "Epoch 15/15\n",
      "50000/50000 [==============================] - 267s - loss: 0.4529 - acc: 0.8422 - val_loss: 0.8612 - val_acc: 0.7249\n"
     ]
    }
   ],
   "source": [
    "history_conv = model_conv.fit(X_train.reshape((50000, 3, 32, 32)).transpose(0, 2, 3, 1), y_train,\n",
    "            nb_epoch=15,\n",
    "            batch_size=128,\n",
    "            verbose=1,\n",
    "            validation_data=(X_test.reshape((10000, 3, 32, 32)).transpose(0, 2, 3, 1), y_test))"
   ]
  },
  {
   "cell_type": "code",
   "execution_count": 112,
   "metadata": {
    "collapsed": false,
    "scrolled": false
   },
   "outputs": [
    {
     "data": {
      "image/png": "[encoded data removed]",
      "text/plain": [
       "<matplotlib.figure.Figure at 0x7f2084092f10>"
      ]
     },
     "metadata": {},
     "output_type": "display_data"
    }
   ],
   "source": [
    "plt.figure(figsize=(12, 8))\n",
    "plt.plot(history_conv.history['val_loss'], label = 'deep model')\n",
    "plt.title('loss, convolution')\n",
    "plt.xlabel('Train epoch')\n",
    "plt.ylabel('Error')\n",
    "plt.legend()\n",
    "plt.show()"
   ]
  },
  {
   "cell_type": "code",
   "execution_count": 115,
   "metadata": {
    "collapsed": false
   },
   "outputs": [
    {
     "data": {
      "image/png": "[encoded data removed]",
      "text/plain": [
       "<matplotlib.figure.Figure at 0x7f207ff3b450>"
      ]
     },
     "metadata": {},
     "output_type": "display_data"
    }
   ],
   "source": [
    "plt.figure(figsize=(12, 8))\n",
    "plt.plot(1 - np.array(history_conv.history['val_acc']), label = 'deep model')\n",
    "plt.title('error, convolution')\n",
    "plt.xlabel('Train epoch')\n",
    "plt.ylabel('Error')\n",
    "plt.legend()\n",
    "plt.show()"
   ]
  },
  {
   "cell_type": "markdown",
   "metadata": {},
   "source": [
    "Видим, что качество классификации заметно улучшилось."
   ]
  },
  {
   "cell_type": "markdown",
   "metadata": {},
   "source": [
    "Большие нейронные сети склонны к переобучению. Для того, чтобы бороться с переобучением, в области распознавания изображений активно применяют техники расширения обучающей выборки. Для этого к обучающим изображениям применяют различные преобразования, которые не меняют класс объекта. В рамках данного задания мы возьмем сверточную сеть, которую обучали ранее, и будем применять ко входным изображениям случайные сдвиги по обеим координатам и горизонтальные перевороты изображения. Для этого можно воспользоваться специальным классом [ImageDataGenerator](https://keras.io/preprocessing/image/#imagedatagenerator). \n",
    "\n",
    "Задайте параметры <i>ImageDataGenerator</i> таким образом, чтобы он осуществлял случайные горизонтальные и вертикальные сдвиги изображения в пределах трех пикселей и случайные горизонтальные перевороты. Также не забудьте правильно выставить порядок размерностей во входных данных в параметре <i>dim_ordering</i> при создании экземпляра класса ImageDataGenerator.\n",
    "\n",
    "**(1 балл)** Обучите сверточную сеть той же архитектуры, которая использовалась раннее. Как расширение выборки отразилось на качестве классификации на тестовой выборке?"
   ]
  },
  {
   "cell_type": "code",
   "execution_count": 116,
   "metadata": {
    "collapsed": true
   },
   "outputs": [],
   "source": [
    "from keras.preprocessing.image import ImageDataGenerator"
   ]
  },
  {
   "cell_type": "code",
   "execution_count": 125,
   "metadata": {
    "collapsed": true
   },
   "outputs": [],
   "source": [
    "datagenerator = ImageDataGenerator(width_shift_range=0.1, height_shift_range=0.1, horizontal_flip=True, dim_ordering='tf')"
   ]
  },
  {
   "cell_type": "code",
   "execution_count": 126,
   "metadata": {
    "collapsed": false
   },
   "outputs": [],
   "source": [
    "datagenerator.fit(X_train.reshape((50000, 3, 32, 32)).transpose(0, 2, 3, 1))"
   ]
  },
  {
   "cell_type": "markdown",
   "metadata": {},
   "source": [
    "Обучим 2-ую модель из предыдущего задания"
   ]
  },
  {
   "cell_type": "code",
   "execution_count": 142,
   "metadata": {
    "collapsed": false,
    "scrolled": true
   },
   "outputs": [
    {
     "name": "stdout",
     "output_type": "stream",
     "text": [
      "Epoch 1/30\n",
      "87504/87500 [==============================] - 95s - loss: 1.9097 - acc: 0.3146 - val_loss: 1.6661 - val_acc: 0.4139\n",
      "Epoch 2/30\n",
      "87584/87500 [==============================] - 94s - loss: 1.7593 - acc: 0.3739 - val_loss: 1.5870 - val_acc: 0.4434\n",
      "Epoch 3/30\n",
      "87584/87500 [==============================] - 94s - loss: 1.7065 - acc: 0.3932 - val_loss: 1.5494 - val_acc: 0.4492\n",
      "Epoch 4/30\n",
      "87584/87500 [==============================] - 95s - loss: 1.6635 - acc: 0.4095 - val_loss: 1.4773 - val_acc: 0.4786\n",
      "Epoch 5/30\n",
      "87504/87500 [==============================] - 96s - loss: 1.6318 - acc: 0.4193 - val_loss: 1.4580 - val_acc: 0.4856\n",
      "Epoch 6/30\n",
      "87584/87500 [==============================] - 96s - loss: 1.6093 - acc: 0.4284 - val_loss: 1.4383 - val_acc: 0.4912\n",
      "Epoch 7/30\n",
      "87584/87500 [==============================] - 96s - loss: 1.5833 - acc: 0.4368 - val_loss: 1.4180 - val_acc: 0.4961\n",
      "Epoch 8/30\n",
      "87584/87500 [==============================] - 96s - loss: 1.5638 - acc: 0.4424 - val_loss: 1.4306 - val_acc: 0.4922\n",
      "Epoch 9/30\n",
      "87504/87500 [==============================] - 95s - loss: 1.5483 - acc: 0.4500 - val_loss: 1.4189 - val_acc: 0.4990\n",
      "Epoch 10/30\n",
      "87584/87500 [==============================] - 94s - loss: 1.5325 - acc: 0.4563 - val_loss: 1.3775 - val_acc: 0.5154\n",
      "Epoch 11/30\n",
      "87584/87500 [==============================] - 94s - loss: 1.5204 - acc: 0.4580 - val_loss: 1.3673 - val_acc: 0.5148\n",
      "Epoch 12/30\n",
      "87584/87500 [==============================] - 94s - loss: 1.5101 - acc: 0.4638 - val_loss: 1.3365 - val_acc: 0.5290\n",
      "Epoch 13/30\n",
      "87504/87500 [==============================] - 93s - loss: 1.4995 - acc: 0.4655 - val_loss: 1.3537 - val_acc: 0.5278\n",
      "Epoch 14/30\n",
      "87584/87500 [==============================] - 94s - loss: 1.4843 - acc: 0.4719 - val_loss: 1.3433 - val_acc: 0.5223\n",
      "Epoch 15/30\n",
      "87584/87500 [==============================] - 94s - loss: 1.4818 - acc: 0.4711 - val_loss: 1.3340 - val_acc: 0.5243\n",
      "Epoch 16/30\n",
      "87584/87500 [==============================] - 94s - loss: 1.4667 - acc: 0.4804 - val_loss: 1.3066 - val_acc: 0.5370\n",
      "Epoch 17/30\n",
      "87504/87500 [==============================] - 93s - loss: 1.4599 - acc: 0.4799 - val_loss: 1.3118 - val_acc: 0.5381\n",
      "Epoch 18/30\n",
      "87584/87500 [==============================] - 94s - loss: 1.4556 - acc: 0.4835 - val_loss: 1.2907 - val_acc: 0.5472\n",
      "Epoch 19/30\n",
      "87584/87500 [==============================] - 93s - loss: 1.4465 - acc: 0.4844 - val_loss: 1.3123 - val_acc: 0.5388\n",
      "Epoch 20/30\n",
      "87584/87500 [==============================] - 94s - loss: 1.4448 - acc: 0.4869 - val_loss: 1.2852 - val_acc: 0.5381\n",
      "Epoch 21/30\n",
      "87504/87500 [==============================] - 94s - loss: 1.4294 - acc: 0.4920 - val_loss: 1.2859 - val_acc: 0.5464\n",
      "Epoch 22/30\n",
      "87584/87500 [==============================] - 95s - loss: 1.4246 - acc: 0.4933 - val_loss: 1.2936 - val_acc: 0.5378\n",
      "Epoch 23/30\n",
      "87584/87500 [==============================] - 95s - loss: 1.4217 - acc: 0.4963 - val_loss: 1.2963 - val_acc: 0.5404\n",
      "Epoch 24/30\n",
      "87584/87500 [==============================] - 95s - loss: 1.4151 - acc: 0.4985 - val_loss: 1.2905 - val_acc: 0.5477\n",
      "Epoch 25/30\n",
      "87504/87500 [==============================] - 95s - loss: 1.4176 - acc: 0.4978 - val_loss: 1.2644 - val_acc: 0.5511\n",
      "Epoch 26/30\n",
      "87584/87500 [==============================] - 95s - loss: 1.4059 - acc: 0.5019 - val_loss: 1.2667 - val_acc: 0.5541\n",
      "Epoch 27/30\n",
      "87584/87500 [==============================] - 95s - loss: 1.4045 - acc: 0.5026 - val_loss: 1.2626 - val_acc: 0.5558\n",
      "Epoch 28/30\n",
      "87584/87500 [==============================] - 95s - loss: 1.3994 - acc: 0.5026 - val_loss: 1.2739 - val_acc: 0.5479\n",
      "Epoch 29/30\n",
      "87504/87500 [==============================] - 95s - loss: 1.3925 - acc: 0.5050 - val_loss: 1.2452 - val_acc: 0.5610\n",
      "Epoch 30/30\n",
      "87584/87500 [==============================] - 95s - loss: 1.3891 - acc: 0.5079 - val_loss: 1.2402 - val_acc: 0.5556\n"
     ]
    },
    {
     "name": "stderr",
     "output_type": "stream",
     "text": [
      "/home/bender/anaconda/lib/python2.7/site-packages/keras/engine/training.py:1480: UserWarning: Epoch comprised more than `samples_per_epoch` samples, which might affect learning results. Set `samples_per_epoch` correctly to avoid this warning.\n",
      "  warnings.warn('Epoch comprised more than '\n"
     ]
    },
    {
     "data": {
      "text/plain": [
       "<keras.callbacks.History at 0x7f207411c850>"
      ]
     },
     "execution_count": 142,
     "metadata": {},
     "output_type": "execute_result"
    }
   ],
   "source": [
    "model2_datagen = Sequential()\n",
    "\n",
    "model2_datagen.add(Reshape((3072, ), input_shape=(32, 32, 3)))\n",
    "\n",
    "model2_datagen.add(Dense(512, input_dim=len(X_train[0]), init='uniform', W_regularizer=l2(1e-5)))\n",
    "model2_datagen.add(Activation('relu'))\n",
    "model2_datagen.add(Dropout(0.3))\n",
    "model2_datagen.add(Dense(512, init='uniform'))\n",
    "model2_datagen.add(Activation('relu'))\n",
    "model2_datagen.add(Dropout(0.3))\n",
    "model2_datagen.add(Dense(10, init='uniform'))\n",
    "model2_datagen.add(Activation('softmax'))\n",
    "\n",
    "sgd2_datagen = SGD(lr=0.01, momentum=0.9, decay=1e-6, nesterov=True)\n",
    "model2_datagen.compile(loss='categorical_crossentropy',\n",
    "        optimizer=sgd2_datagen,\n",
    "        metrics=['accuracy'])\n",
    "\n",
    "model2_datagen.fit_generator(datagenerator.flow(X_train.reshape((50000, 3, 32, 32)).transpose(0, 2, 3, 1), y_train,\n",
    "                        batch_size=128),\n",
    "                        nb_epoch=30,\n",
    "                        samples_per_epoch=len(X_train) * 1.75,\n",
    "                        validation_data=(X_test.reshape((10000, 3, 32, 32)).transpose(0, 2, 3, 1), y_test))"
   ]
  },
  {
   "cell_type": "code",
   "execution_count": 143,
   "metadata": {
    "collapsed": false
   },
   "outputs": [
    {
     "name": "stdout",
     "output_type": "stream",
     "text": [
      "10000/10000 [==============================] - 2s     \n",
      "[1.2401998142242432, 0.55559999999999998]\n"
     ]
    }
   ],
   "source": [
    "score2_datagen = model2_datagen.evaluate(X_test.reshape((10000, 3, 32, 32)).transpose(0, 2, 3, 1), y_test, batch_size=128)\n",
    "print score2_datagen"
   ]
  },
  {
   "cell_type": "markdown",
   "metadata": {},
   "source": [
    "Видим, что расширение выборки немного улучшило результаты. (Было [1.2796147747039794, 0.54610000000000003])"
   ]
  },
  {
   "cell_type": "code",
   "execution_count": null,
   "metadata": {
    "collapsed": true
   },
   "outputs": [],
   "source": []
  }
 ],
 "metadata": {
  "kernelspec": {
   "display_name": "Python 3",
   "language": "python",
   "name": "python3"
  },
  "language_info": {
   "codemirror_mode": {
    "name": "ipython",
    "version": 3
   },
   "file_extension": ".py",
   "mimetype": "text/x-python",
   "name": "python",
   "nbconvert_exporter": "python",
   "pygments_lexer": "ipython3",
   "version": "3.6.0"
  }
 },
 "nbformat": 4,
 "nbformat_minor": 1
}
