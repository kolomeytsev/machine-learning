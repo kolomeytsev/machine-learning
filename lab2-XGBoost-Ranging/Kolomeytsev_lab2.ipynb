{
 "cells": [
  {
   "cell_type": "code",
   "execution_count": 1,
   "metadata": {
    "collapsed": false
   },
   "outputs": [
    {
     "name": "stderr",
     "output_type": "stream",
     "text": [
      "/home/bender/anaconda/lib/python2.7/site-packages/sklearn/cross_validation.py:44: DeprecationWarning: This module was deprecated in version 0.18 in favor of the model_selection module into which all the refactored classes and functions are moved. Also note that the interface of the new CV iterators are different from that of this module. This module will be removed in 0.20.\n",
      "  \"This module will be removed in 0.20.\", DeprecationWarning)\n"
     ]
    }
   ],
   "source": [
    "import numpy as np\n",
    "import scipy as sp\n",
    "import pandas as pd\n",
    "import matplotlib.pyplot as plt\n",
    "%matplotlib inline\n",
    "\n",
    "import re\n",
    "\n",
    "from sklearn.cross_validation import train_test_split\n",
    "from sklearn.tree import DecisionTreeRegressor\n",
    "from sklearn.metrics import mean_squared_error\n",
    "\n",
    "import xgboost as xgb"
   ]
  },
  {
   "cell_type": "markdown",
   "metadata": {},
   "source": [
    "# Лабораторная работа 2. Композиции алгоритмов. Ранжирование.\n",
    "\n",
    "Результат лабораторной работы − отчет. Мы предпочитаем принимать отчеты в формате ноутбуков IPython (ipynb-файл). Постарайтесь сделать ваш отчет интересным рассказом, последовательно отвечающим на вопросы из заданий. Помимо ответов на вопросы, в отчете так же должен быть код, однако чем меньше кода, тем лучше всем: нам − меньше проверять, вам — проще найти ошибку или дополнить эксперимент. При проверке оценивается четкость ответов на вопросы, аккуратность отчета и кода.\n",
    "\n",
    "### Оценивание и штрафы\n",
    "Каждая из задач имеет определенную «стоимость» (указана в скобках около задачи). Максимально допустимая оценка за работу — 10 баллов. Сдавать задание после указанного срока сдачи нельзя. «Похожие» решения считаются плагиатом и все задействованные студенты (в том числе те, у кого списали) не могут получить за него больше 0 баллов и понижают карму (подробнее о плагиате см. на странице курса). Если вы нашли решение какого-то из заданий в открытом источнике, необходимо прислать ссылку на этот источник (скорее всего вы будете не единственным, кто это нашел, поэтому чтобы исключить подозрение в плагиате, нам необходима ссылка на источник).\n",
    "\n",
    "### Правила сдачи\n",
    "Выполненную работу следует отправить в систему Anytask. Более подробно о системе можно почитать на странице курса. Название отправляемого файла должно иметь следующий формат: Surname_Name_Group_NN.ipynb, где NN — номер лабораторной работы. Например, Kozlova_Anna_CS_02.ipynb."
   ]
  },
  {
   "cell_type": "markdown",
   "metadata": {},
   "source": [
    "## Bias-Variance decomposition. Композиции алгоритмов\n",
    "\n",
    "![](http://scott.fortmann-roe.com/docs/docs/BiasVariance/biasvariance.png)\n",
    "\n",
    "Рассмотрим задачу регрессии со среднеквадратичной функцией потерь, а также некоторый алгорим $a$. Тогда качество алгоритма $a$ может быть записано следующим образом:\n",
    "\n",
    "$$Q(a) = \\mathbb{E}_{X^l} \\mathbb{E}_{x,y}(a(x) - y)^2$$\n",
    "\n",
    "где первое матожидание вычисляется по всевозможным обучающим выборкам $X^l$. К сожалению, на реальных данных эта формула неприменима из-за невозможности сгенерировать необходимые для оценки данные. Поэтому проведем приближенный численный эксперимент с эмпирическими оценками матожиданий.\n",
    "\n",
    "Обозначим вектор истинных меток тестовой выборки за $y \\in \\mathbb{R}^{l}$. С помощью бутстраппинга можно просемплировать из обучающей выборки $N$ новых выборок того же размера, тем самым \"имитируя\" пространство всевозможных обучающих выборок, после чего обучить на каждой выбранный алгоритм. Векторы прогнозов для объектов из тестовой выборки для каждой модели обозначим за $\\hat{y}_i \\in \\mathbb{R}^{l}, i \\in \\{1, .., N\\}$. Тогда средний квадрат ошибки по всем моделям на тестовой выборке запишется как\n",
    "\n",
    "$$error=\\frac{1}{N}\\sum_{i=1}^{N}MSE(y,\\hat{y}_i)$$\n",
    "\n",
    "Обозначим среднее предсказание за $$\\overline{y} = \\frac{1}{N}\\sum_{i=1}^{N} \\hat{y}_i$$\n",
    "\n",
    "Тогда квадрат отклонения среднего предсказания и разброс прогнозов относительно среднего предсказания всех моделей на тестовой выборке от истинных меток запишутся следующим образом, соответственно:\n",
    "\n",
    "$$bias^2 = MSE(y, \\overline y)$$\n",
    "\n",
    "$$variance = \\frac{1}{N}\\sum_{i=1}^N MSE(\\hat{y}_i, \\overline y)$$\n"
   ]
  },
  {
   "cell_type": "markdown",
   "metadata": {},
   "source": [
    "Для начала рассмотрим в качестве алгоритма решающее дерево. Как известно, при увеличении высоты дерева алгоритм может быть сильно чувствителен к составу обучающей выборки. Чтобы подтвердить эти предположения, проведите следующие эксперименты."
   ]
  },
  {
   "cell_type": "markdown",
   "metadata": {},
   "source": [
    "Загрузите [набор данных](http://archive.ics.uci.edu/ml/datasets/BlogFeedback). Каждый объект — пост в блоге. Он описывается различными признаками: длина текста поста, наличие наиболее частотных слов, день недели, количество комментариев за последние 24 часа и т.п., а так же целевым признаком — количеством комментариев к посту. Полный список признаков и описание находятся на странице датасета. \n",
    "\n",
    "Разбейте данные из файла **blogData_train.csv** на обучающую и тестовую выборки в пропорциях 1 к 4 соответственно. Обратите внимание, что обучающая выборка меньше тестовой. Такая большая тестовая выборка позволит сделать измерение качества моделей достаточно достоверным. "
   ]
  },
  {
   "cell_type": "code",
   "execution_count": 19,
   "metadata": {
    "collapsed": true
   },
   "outputs": [],
   "source": [
    "data = pd.read_csv(\"blogData_train.csv\", header=None)"
   ]
  },
  {
   "cell_type": "code",
   "execution_count": 20,
   "metadata": {
    "collapsed": false
   },
   "outputs": [
    {
     "data": {
      "text/plain": [
       "(52397, 281)"
      ]
     },
     "execution_count": 20,
     "metadata": {},
     "output_type": "execute_result"
    }
   ],
   "source": [
    "data.shape"
   ]
  },
  {
   "cell_type": "code",
   "execution_count": 26,
   "metadata": {
    "collapsed": false
   },
   "outputs": [
    {
     "data": {
      "text/html": [
       "<div>\n",
       "<table border=\"1\" class=\"dataframe\">\n",
       "  <thead>\n",
       "    <tr style=\"text-align: right;\">\n",
       "      <th></th>\n",
       "      <th>0</th>\n",
       "      <th>1</th>\n",
       "      <th>2</th>\n",
       "      <th>3</th>\n",
       "      <th>4</th>\n",
       "      <th>5</th>\n",
       "      <th>6</th>\n",
       "      <th>7</th>\n",
       "      <th>8</th>\n",
       "      <th>9</th>\n",
       "      <th>...</th>\n",
       "      <th>271</th>\n",
       "      <th>272</th>\n",
       "      <th>273</th>\n",
       "      <th>274</th>\n",
       "      <th>275</th>\n",
       "      <th>276</th>\n",
       "      <th>277</th>\n",
       "      <th>278</th>\n",
       "      <th>279</th>\n",
       "      <th>280</th>\n",
       "    </tr>\n",
       "  </thead>\n",
       "  <tbody>\n",
       "    <tr>\n",
       "      <th>0</th>\n",
       "      <td>40.30467</td>\n",
       "      <td>53.845657</td>\n",
       "      <td>0</td>\n",
       "      <td>401</td>\n",
       "      <td>15</td>\n",
       "      <td>15.52416</td>\n",
       "      <td>32.44188</td>\n",
       "      <td>0</td>\n",
       "      <td>377</td>\n",
       "      <td>3</td>\n",
       "      <td>...</td>\n",
       "      <td>0</td>\n",
       "      <td>1</td>\n",
       "      <td>0</td>\n",
       "      <td>0</td>\n",
       "      <td>0</td>\n",
       "      <td>0</td>\n",
       "      <td>0</td>\n",
       "      <td>0</td>\n",
       "      <td>0</td>\n",
       "      <td>1</td>\n",
       "    </tr>\n",
       "    <tr>\n",
       "      <th>1</th>\n",
       "      <td>40.30467</td>\n",
       "      <td>53.845657</td>\n",
       "      <td>0</td>\n",
       "      <td>401</td>\n",
       "      <td>15</td>\n",
       "      <td>15.52416</td>\n",
       "      <td>32.44188</td>\n",
       "      <td>0</td>\n",
       "      <td>377</td>\n",
       "      <td>3</td>\n",
       "      <td>...</td>\n",
       "      <td>1</td>\n",
       "      <td>0</td>\n",
       "      <td>0</td>\n",
       "      <td>0</td>\n",
       "      <td>0</td>\n",
       "      <td>0</td>\n",
       "      <td>0</td>\n",
       "      <td>0</td>\n",
       "      <td>0</td>\n",
       "      <td>0</td>\n",
       "    </tr>\n",
       "    <tr>\n",
       "      <th>2</th>\n",
       "      <td>40.30467</td>\n",
       "      <td>53.845657</td>\n",
       "      <td>0</td>\n",
       "      <td>401</td>\n",
       "      <td>15</td>\n",
       "      <td>15.52416</td>\n",
       "      <td>32.44188</td>\n",
       "      <td>0</td>\n",
       "      <td>377</td>\n",
       "      <td>3</td>\n",
       "      <td>...</td>\n",
       "      <td>1</td>\n",
       "      <td>0</td>\n",
       "      <td>0</td>\n",
       "      <td>0</td>\n",
       "      <td>0</td>\n",
       "      <td>0</td>\n",
       "      <td>0</td>\n",
       "      <td>0</td>\n",
       "      <td>0</td>\n",
       "      <td>0</td>\n",
       "    </tr>\n",
       "    <tr>\n",
       "      <th>3</th>\n",
       "      <td>40.30467</td>\n",
       "      <td>53.845657</td>\n",
       "      <td>0</td>\n",
       "      <td>401</td>\n",
       "      <td>15</td>\n",
       "      <td>15.52416</td>\n",
       "      <td>32.44188</td>\n",
       "      <td>0</td>\n",
       "      <td>377</td>\n",
       "      <td>3</td>\n",
       "      <td>...</td>\n",
       "      <td>0</td>\n",
       "      <td>1</td>\n",
       "      <td>0</td>\n",
       "      <td>0</td>\n",
       "      <td>0</td>\n",
       "      <td>0</td>\n",
       "      <td>0</td>\n",
       "      <td>0</td>\n",
       "      <td>0</td>\n",
       "      <td>1</td>\n",
       "    </tr>\n",
       "    <tr>\n",
       "      <th>4</th>\n",
       "      <td>40.30467</td>\n",
       "      <td>53.845657</td>\n",
       "      <td>0</td>\n",
       "      <td>401</td>\n",
       "      <td>15</td>\n",
       "      <td>15.52416</td>\n",
       "      <td>32.44188</td>\n",
       "      <td>0</td>\n",
       "      <td>377</td>\n",
       "      <td>3</td>\n",
       "      <td>...</td>\n",
       "      <td>0</td>\n",
       "      <td>1</td>\n",
       "      <td>0</td>\n",
       "      <td>0</td>\n",
       "      <td>0</td>\n",
       "      <td>0</td>\n",
       "      <td>0</td>\n",
       "      <td>0</td>\n",
       "      <td>0</td>\n",
       "      <td>27</td>\n",
       "    </tr>\n",
       "  </tbody>\n",
       "</table>\n",
       "<p>5 rows × 281 columns</p>\n",
       "</div>"
      ],
      "text/plain": [
       "        0          1    2    3    4         5         6    7    8    9   ...   \\\n",
       "0  40.30467  53.845657    0  401   15  15.52416  32.44188    0  377    3 ...    \n",
       "1  40.30467  53.845657    0  401   15  15.52416  32.44188    0  377    3 ...    \n",
       "2  40.30467  53.845657    0  401   15  15.52416  32.44188    0  377    3 ...    \n",
       "3  40.30467  53.845657    0  401   15  15.52416  32.44188    0  377    3 ...    \n",
       "4  40.30467  53.845657    0  401   15  15.52416  32.44188    0  377    3 ...    \n",
       "\n",
       "   271  272  273  274  275  276  277  278  279  280  \n",
       "0    0    1    0    0    0    0    0    0    0    1  \n",
       "1    1    0    0    0    0    0    0    0    0    0  \n",
       "2    1    0    0    0    0    0    0    0    0    0  \n",
       "3    0    1    0    0    0    0    0    0    0    1  \n",
       "4    0    1    0    0    0    0    0    0    0   27  \n",
       "\n",
       "[5 rows x 281 columns]"
      ]
     },
     "execution_count": 26,
     "metadata": {},
     "output_type": "execute_result"
    }
   ],
   "source": [
    "data[:5]"
   ]
  },
  {
   "cell_type": "code",
   "execution_count": 46,
   "metadata": {
    "collapsed": false
   },
   "outputs": [],
   "source": [
    "X = data.iloc[:, :280]\n",
    "Y = data.iloc[:, 280]"
   ]
  },
  {
   "cell_type": "code",
   "execution_count": 50,
   "metadata": {
    "collapsed": false
   },
   "outputs": [
    {
     "name": "stdout",
     "output_type": "stream",
     "text": [
      "(52397, 280)\n",
      "(52397,)\n"
     ]
    }
   ],
   "source": [
    "print X.shape\n",
    "print Y.shape"
   ]
  },
  {
   "cell_type": "code",
   "execution_count": 51,
   "metadata": {
    "collapsed": true
   },
   "outputs": [],
   "source": [
    "X_train, X_test, Y_train, Y_test = train_test_split(X, Y, test_size=0.8, random_state=666)"
   ]
  },
  {
   "cell_type": "code",
   "execution_count": 53,
   "metadata": {
    "collapsed": false
   },
   "outputs": [
    {
     "name": "stdout",
     "output_type": "stream",
     "text": [
      "(10479, 280) (10479,)\n",
      "(41918, 280) (41918,)\n"
     ]
    }
   ],
   "source": [
    "print X_train.shape, Y_train.shape\n",
    "print X_test.shape, Y_test.shape"
   ]
  },
  {
   "cell_type": "markdown",
   "metadata": {
    "collapsed": true
   },
   "source": [
    "**(1 балл)** Постройте графики зависимости $error$, $bias^2$ и $variance$ от глубины решающего дерева (от 1 до 15 включительно) для $N=100$. "
   ]
  },
  {
   "cell_type": "code",
   "execution_count": 189,
   "metadata": {
    "collapsed": false
   },
   "outputs": [],
   "source": [
    "N = 100\n",
    "\n",
    "def compute_y_bootstrap(N, depth, X_train, Y_train, X_test):\n",
    "    Y_matr = np.zeros((N, X_test.shape[0]))\n",
    "    for n in range(N):\n",
    "        train_size = X_train.shape[0]\n",
    "        train_indices = np.random.choice(train_size, size=train_size)\n",
    "        X_train_boot = X_train.iloc[train_indices]\n",
    "        Y_train_boot = Y_train.iloc[train_indices]\n",
    "        clf = DecisionTreeRegressor(max_depth = depth)\n",
    "        clf.fit(X_train_boot, Y_train_boot)\n",
    "        Y_pred = clf.predict(X_test)\n",
    "        Y_matr[n] = Y_pred\n",
    "    return Y_matr\n",
    "\n",
    "\n",
    "def compute_error(Y_matr, Y_true):\n",
    "    mse = np.zeros(Y_matr.shape[0])\n",
    "    for i in range(Y_matr.shape[0]):\n",
    "        mse[i] = mean_squared_error(Y_true, Y_matr[i])\n",
    "    return mse.mean()"
   ]
  },
  {
   "cell_type": "code",
   "execution_count": 170,
   "metadata": {
    "collapsed": false,
    "scrolled": true
   },
   "outputs": [
    {
     "name": "stdout",
     "output_type": "stream",
     "text": [
      "depth =  1\n",
      "depth =  2\n",
      "depth =  3\n",
      "depth =  4\n",
      "depth =  5\n",
      "depth =  6\n",
      "depth =  7\n",
      "depth =  8\n",
      "depth =  9\n",
      "depth =  10\n",
      "depth =  11\n",
      "depth =  12\n",
      "depth =  13\n",
      "depth =  14\n",
      "depth =  15\n"
     ]
    }
   ],
   "source": [
    "error_list = []\n",
    "bias_list = []\n",
    "variance_list = []\n",
    "for depth in range(1, 16):\n",
    "    print 'depth = ', depth\n",
    "    Y_matr = compute_y_bootstrap(100, depth, X_train, Y_train, X_test)\n",
    "    error_list.append(compute_error(Y_matr, Y_test))\n",
    "    Y_mean = Y_matr.mean(axis = 0)\n",
    "    bias_list.append(mean_squared_error(Y_test, Y_mean))\n",
    "    variance_list.append(compute_error(Y_matr, Y_mean))"
   ]
  },
  {
   "cell_type": "code",
   "execution_count": 173,
   "metadata": {
    "collapsed": true
   },
   "outputs": [],
   "source": [
    "def plot(X, Y, title, x_label='x', y_label='y', fig_size=(14, 8)):\n",
    "    plt.figure(figsize=fig_size)\n",
    "    plt.plot(X, Y)\n",
    "    plt.title(title, size=20)\n",
    "    plt.xlabel(x_label, size=15)\n",
    "    plt.ylabel(y_label, size=15)\n",
    "    plt.show()"
   ]
  },
  {
   "cell_type": "code",
   "execution_count": 174,
   "metadata": {
    "collapsed": false
   },
   "outputs": [
    {
     "data": {
      "image/png": "[encoded data removed]",
      "text/plain": [
       "<matplotlib.figure.Figure at 0x7f80bea57510>"
      ]
     },
     "metadata": {},
     "output_type": "display_data"
    },
    {
     "data": {
      "image/png": "[encoded data removed]",
      "text/plain": [
       "<matplotlib.figure.Figure at 0x7f80be961510>"
      ]
     },
     "metadata": {},
     "output_type": "display_data"
    },
    {
     "data": {
      "image/png": "[encoded data removed]",
      "text/plain": [
       "<matplotlib.figure.Figure at 0x7f80beb54f90>"
      ]
     },
     "metadata": {},
     "output_type": "display_data"
    }
   ],
   "source": [
    "X = list(range(1, 16))\n",
    "plot(X, error_list, 'error', 'depth', 'MSE')\n",
    "plot(X, bias_list, '$bias^2$', 'depth', 'MSE')\n",
    "plot(X, variance_list, 'variance', 'depth', 'MSE')"
   ]
  },
  {
   "cell_type": "markdown",
   "metadata": {},
   "source": [
    "**(1 балл)** Являются ли какие-то из полученных графиков монотонными? А должны ли они быть монотонными, если бы гипотетически эксперименты были проведены на всевозможных выборках? Почему? Убедитесь численно, что верно bias-variance разложение ошибки: $$error = bias^2 + variance$$"
   ]
  },
  {
   "cell_type": "markdown",
   "metadata": {},
   "source": [
    "Ни один из полученных графиков не является монотонным. График $variance$ почти монотонно возрастает, но все-таки в конце (с 14 на 15) убывает. Но на самом деле графики $bias^2$ и $variance$ должны быть монотонными, если бы эксперименты были проведены на всевозможных выборках, потому что с усложнением модели $bias^2$ должен все время убывать, а $variance$ - возрастать."
   ]
  },
  {
   "cell_type": "code",
   "execution_count": 183,
   "metadata": {
    "collapsed": false
   },
   "outputs": [
    {
     "name": "stdout",
     "output_type": "stream",
     "text": [
      "true\n",
      "true\n",
      "true\n",
      "true\n",
      "true\n",
      "true\n",
      "true\n",
      "true\n",
      "true\n",
      "true\n",
      "true\n",
      "true\n",
      "true\n",
      "true\n",
      "true\n"
     ]
    }
   ],
   "source": [
    "for i, elem in enumerate(error_list):\n",
    "    #print elem, bias_list[i] + variance_list[i]\n",
    "    if abs(elem - bias_list[i] - variance_list[i]) < 0.001:\n",
    "        print 'true'\n",
    "    else:\n",
    "        print 'false'"
   ]
  },
  {
   "cell_type": "markdown",
   "metadata": {},
   "source": [
    "Видим, что bias-variance разложение ошибки верно."
   ]
  },
  {
   "cell_type": "markdown",
   "metadata": {
    "collapsed": true
   },
   "source": [
    "## Композиции алгоритмов\n",
    "\n",
    "Несмотря на описанный выше недостаток решающих деревьев, объединение их в композиции позволяет существенно улучшить качество предсказания. Рассмотрим несколько способов построения композиций.\n",
    "\n",
    "### Bagging + RSM\n",
    "\n",
    "![](https://sites.google.com/site/rajhansgondane2506/_/rsrc/1467898300734/publications/rrftrain.jpg?height=215&width=320)\n",
    "\n",
    "Один из способов объединения алгоритмов в композиции — обучение каждого отдельного алгоритма на некоторой подвыборке из исходной выборки ([bagging](https://en.wikipedia.org/wiki/Bootstrap_aggregating)) и подмножестве исходных признаков ([RSM](https://en.wikipedia.org/wiki/Random_subspace_method)). В sklearn этот тип композиции реализован в классе [BaggingRegressor](http://scikit-learn.org/stable/modules/generated/sklearn.ensemble.BaggingRegressor.html) (для случая регресии). Подобный подход также есть в реализации [RandomForest](http://scikit-learn.org/stable/modules/generated/sklearn.ensemble.RandomForestRegressor.html)."
   ]
  },
  {
   "cell_type": "markdown",
   "metadata": {},
   "source": [
    "### Градиентный бустинг\n",
    "\n",
    "В случае бустинга композиция алгоритмов строится последовательно. Каждый следующий базовый алгоритм акцентируется на тех объектах, на которых обученная ранее композиция допускала ошибку.\n",
    "\n",
    "На данный момент одной из самых широко распространенных реализаций бустинга является библиотека [XGBoost](https://github.com/dmlc/xgboost). В ней большое внимание уделяется регуляризации и скорости, нежели в других реализациях бустинга (например,  [GradientBoostingRegressor](http://scikit-learn.org/stable/modules/generated/sklearn.ensemble.GradientBoostingRegressor.html) из sklearn). Кроме того, XGBoost позволяет оптимизировать различные функции потерь, а также более гибок, засчет большого числа параметров."
   ]
  },
  {
   "cell_type": "markdown",
   "metadata": {},
   "source": [
    "XGBoost строит композицию из $K$ базовых алгоритмов $b_k$:\n",
    "\n",
    "$$ \\hat{y}_i = \\hat{y}_i^{K} = \\sum_{k=1}^{K} b_k(x_i) = \\hat{y}_i^{\\left(K - 1\\right)} + b_K(x_i), $$\n",
    "\n",
    "минимизируя следующий функционал:\n",
    "\n",
    "$$ Obj = \\sum_{i=1}^N \\mathcal{L}(y_i, \\hat{y}_i ) + \\sum_{k=1}^{K} \\Omega(b_k),$$\n",
    "\n",
    "где\n",
    " - $N$ — размер обучающей выборки;\n",
    " - $x_i, y_i, \\hat{y}_i$ — i-ый объект, правильный ответ и предсказание модели для него;\n",
    " - $\\hat{y}_i^{t}$ — предсказание композиции из $t$ уже обученных базовых алгоритмов для i-го объекта;\n",
    " - $\\Omega$ — регуляризатор;\n",
    " - $\\mathcal{L}(y_i, \\hat{y}_i)$ — функция потерь.\n",
    "\n",
    "Функционал, оптимизируемый на $t$-ой итерации:\n",
    "\n",
    "$$ Obj^{(t)} = \\sum_{i=1}^N \\mathcal{L}\\left(y_i, \\hat{y}_i^{(t-1)} + b_t(x_i)\\right) + \\Omega(b_t).$$\n",
    "\n",
    "В случае бустинга над решающими деревьями регуляризатор имеет следующий вид:\n",
    "\n",
    "$$ \\Omega(b_t) = \\gamma T + \\frac{1}{2}\\lambda\\sum_{j=1}^{T}w_j^2 + \\alpha\\sum_{j=1}^{T}w_j,$$\n",
    "\n",
    "где \n",
    " - $T$ — количество листьев в дереве;\n",
    " - $w_j$ — веса в листьях дерева;\n",
    " - $\\lambda, \\alpha, \\gamma$ — гиперпараметры.\n",
    "\n",
    "Данный регуляризатор подобран эвристически и хорошо показывает себя на практике. \n",
    "\n",
    "Раскладывая в ряд Тейлора выражение $\\mathcal{L}\\left(y_i, \\hat{y}_i^{\\left(t-1\\right)} + b_t(x_i)\\right)$ до второго порядка, получаем:\n",
    "\n",
    "$$ Obj^{(t)} = \\sum_{i=1}^N\\left[\\mathcal{L}(y_i, \\hat{y}_i^{\\left(t-1\\right)}) + g_{i}b_{t}(x_i) + \\frac{1}{2}h_{i}b_{t}^2(x_i)\\right] + \\Omega(b_t),$$\n",
    "\n",
    "где $g_i = \\partial_{\\hat{y}_i^{(t-1)}} \\mathcal{L}(y_i, \\hat{y_i}^{(t-1)})$, $h_i = \\partial_{\\hat{y}_i^{(t-1)}}^2 \\mathcal{L}(y_i, \\hat{y}_i^{(t-1)}) $ — градиент и гессиан оптимизируемой функции потерь.\n",
    "\n",
    "Приводя теперь подобные слагаемые и отбрасывая слагаемое $ \\mathcal{L}(y_i, \\hat{y}_i^{(t-1)}) $, не зависящее от $ b_t(x_i)$ (а следовательно, не влияющее на точку минимума функционала), получаем формулу:\n",
    "$$ Obj^{(t)} \\simeq \\sum_{j=1}^{T}\\left[\\sum_{i \\in I_j} g_i w_j + \\frac{1}{2}\\sum_{i \\in I_j} (h_i + \\lambda)w_j^2\\right] + \\gamma T$$\n",
    "$$ = \\sum_{j=1}^{T}\\left[G_jw_j + \\frac{1}{2}(H_j + \\lambda)w_j^2\\right] + \\gamma T, $$\n",
    "\n",
    "где \n",
    " - $ I_j $ - множество объектов обучающей выборки, попавших в $j$-ый лист дерева;\n",
    " - $ G_j = \\sum_{i \\in I_j} g_i$;\n",
    " - $ H_j = \\sum_{i \\in I_j} h_i$.\n",
    " \n",
    "Теперь, имея заданную структуру дерева, можно аналитически вычислить оптимальные значения для весов:\n",
    "$$ w_j^* = -\\frac{G_j}{H_j + \\lambda}.$$\n",
    "\n",
    "Значение функционала при этом будет равно:\n",
    "\n",
    "$$ Obj = -\\frac{1}{2}\\sum_{j=1}^T \\frac{G_j^2}{H_j + \\lambda} + \\gamma T .$$\n",
    "\n",
    "Осталось только построить дерево оптимальной структуры. Это можно делать известными методами построения решающих деревьев, проводя разбиения таким образом, чтобы максимизировать gain, определенный как уменьшение $Obj$ в момент этого разбиения. Для уже построенного дерева по формулам $ w_j^* $ вычисляются оптимальные значения в листьях."
   ]
  },
  {
   "cell_type": "markdown",
   "metadata": {},
   "source": [
    "В XGBoost реализовано несколько различных функций потерь, что позволяет решать задачи классификации (бинарной и мультиклассовой), регрессии и ранжирования. Вот некоторые из них:\n",
    "\n",
    "- reg:linear — линейная регрессия\n",
    "- reg:logistic — логистическая регрессия\n",
    "- binary:logistic — логистическая регрессия\n",
    "- multi:softmax — softmax функция потерь для многоклассовой классификации\n",
    "- rank:pairwise — минимизация pairwise-функции потерь для задачи ранжирования"
   ]
  },
  {
   "cell_type": "markdown",
   "metadata": {},
   "source": [
    "**(1 балл)** Проведите аналогичный эксперимент с bias-variance разложением для градиентного бустинга для количество алгоритмов 1, 5, 10, 25 и 50, используя в качестве базовых алгоритмов решающие деревья. Пример использования библиотеки можно найти в туториале с [семинара про XGBoost](https://nbviewer.jupyter.org/urls/dl.dropbox.com/s/b1lm8e763tsxly5/xgboost_tutorial.ipynb). Обратите внимание, что данная библиотека имеет два интерфейса (стандартный и аналог sklearn), названия параметров в которых могут отличаться."
   ]
  },
  {
   "cell_type": "code",
   "execution_count": 190,
   "metadata": {
    "collapsed": true
   },
   "outputs": [],
   "source": [
    "def compute_y_bootstrap(N, clf, X_train, Y_train, X_test):\n",
    "    Y_matr = np.zeros((N, X_test.shape[0]))\n",
    "    for n in range(N):\n",
    "        train_size = X_train.shape[0]\n",
    "        train_indices = np.random.choice(train_size, size=train_size)\n",
    "        X_train_boot = X_train.iloc[train_indices]\n",
    "        Y_train_boot = Y_train.iloc[train_indices]\n",
    "        clf.fit(X_train_boot, Y_train_boot)\n",
    "        Y_pred = clf.predict(X_test)\n",
    "        Y_matr[n] = Y_pred\n",
    "    return Y_matr"
   ]
  },
  {
   "cell_type": "code",
   "execution_count": 191,
   "metadata": {
    "collapsed": false
   },
   "outputs": [
    {
     "name": "stdout",
     "output_type": "stream",
     "text": [
      "number of estimators =  1\n",
      "number of estimators =  5\n",
      "number of estimators =  10\n",
      "number of estimators =  25\n",
      "number of estimators =  50\n"
     ]
    }
   ],
   "source": [
    "error_list_xgb = []\n",
    "bias_list_xgb = []\n",
    "variance_list_xgb = []\n",
    "for num_estimators in [1, 5, 10, 25, 50]:\n",
    "    print 'number of estimators = ', num_estimators\n",
    "    Y_matr = compute_y_bootstrap(N, xgb.XGBRegressor(n_estimators=num_estimators), X_train, Y_train, X_test)\n",
    "    error_list_xgb.append(compute_error(Y_matr, Y_test))\n",
    "    Y_mean = Y_matr.mean(axis = 0)\n",
    "    bias_list_xgb.append(mean_squared_error(Y_test, Y_mean))\n",
    "    variance_list_xgb.append(compute_error(Y_matr, Y_mean))"
   ]
  },
  {
   "cell_type": "code",
   "execution_count": 197,
   "metadata": {
    "collapsed": false
   },
   "outputs": [
    {
     "data": {
      "text/plain": [
       "[1264.4023255963211,\n",
       " 952.70955021505642,\n",
       " 786.46910585516741,\n",
       " 686.50385992452925,\n",
       " 689.05636373845573]"
      ]
     },
     "execution_count": 197,
     "metadata": {},
     "output_type": "execute_result"
    }
   ],
   "source": [
    "error_list_xgb"
   ]
  },
  {
   "cell_type": "code",
   "execution_count": 198,
   "metadata": {
    "collapsed": false
   },
   "outputs": [
    {
     "data": {
      "image/png": "[encoded data removed]",
      "text/plain": [
       "<matplotlib.figure.Figure at 0x7f808f3ab2d0>"
      ]
     },
     "metadata": {},
     "output_type": "display_data"
    },
    {
     "data": {
      "image/png": "[encoded data removed]",
      "text/plain": [
       "<matplotlib.figure.Figure at 0x7f808f3ab0d0>"
      ]
     },
     "metadata": {},
     "output_type": "display_data"
    },
    {
     "data": {
      "image/png": "[encoded data removed]",
      "text/plain": [
       "<matplotlib.figure.Figure at 0x7f808f324310>"
      ]
     },
     "metadata": {},
     "output_type": "display_data"
    }
   ],
   "source": [
    "X = [1, 5, 10, 25, 50]\n",
    "plot(X, error_list_xgb, 'error XGB', 'number of estimators', 'MSE')\n",
    "plot(X, bias_list_xgb, '$bias^2$ XGB', 'number of estimators', 'MSE')\n",
    "plot(X, variance_list_xgb, 'variance XGB', 'number of estimators', 'MSE')"
   ]
  },
  {
   "cell_type": "markdown",
   "metadata": {},
   "source": [
    "**(0.5 балла)** Отличаются ли графики в рассмотренных моделях (решающее дерево, градиентный бустинг на решающих деревьях)  между собой? На какую компоненту из разложения ошибки влияет объединение алгоритмов в рассмотренный тип композиции?"
   ]
  },
  {
   "cell_type": "markdown",
   "metadata": {
    "collapsed": true
   },
   "source": [
    "Графики в рассмотренных моделях отличаются. В первой модели (решающее дерево) графики $bias^2$ и $variance$ получились немонотонными, а во второй (градиентный бустинг) - монотонными.\n",
    "\n",
    "Рассмотренный тип композиции влияет на компоненту $bias^2$."
   ]
  },
  {
   "cell_type": "markdown",
   "metadata": {},
   "source": [
    "## Поисковое ранжирование\n",
    "\n",
    "![](http://i.imgur.com/2QnD2nF.jpg)\n",
    "\n",
    "Задачу поискового ранжирования можно описать следующим образом: имеется множество документов $d \\in D$ и множество запросов $q \\in Q$. Требуется оценить *степень релевантности* документа по отношению к запросу: $(q, d) \\mapsto r$, относительно которой будет производиться ранжирование. Для восстановления этой зависимости используются методы машинного обучения. Обычно используется три типа:\n",
    " - признаки запроса $q$, например: мешок слов текста запроса, его длина, ...\n",
    " - документа $d$, например: значение PageRank, мешок слов, доменное имя, ...\n",
    " - пары $(q, d)$, например: число вхождений фразы из запроса $q$ в документе $d$, ...\n",
    "\n",
    "Одна из отличительных особенностей задачи ранжирования от классических задач машинного обучения заключается в том, что качество результата зависит не от предсказанных оценок релевантности, а от порядка следования документов в рамках конкретного запроса, т.е. важно не абсолютное значение релевантности (его достаточно трудно формализовать в виде числа), а то, более или менее релевантен документ, относительно других документов.\n",
    "\n",
    "### Оценка качества\n",
    "\n",
    "Для оценивания качества ранжирования найденных документов в поиске используются асессорские оценки. Само оценивание происходит на скрытых от обучения запросах $Queries$. Для этого традиционно используется метрика *DCG* ([Discounted Cumulative Gain](https://en.wikipedia.org/wiki/Discounted_cumulative_gain)) и ее нормализованный вариант — *nDCG*, всегда принимающий значения от 0 до 1.\n",
    "Для одного запроса DCG считается следующим образом:\n",
    "$$ DCG = \\sum_{i=1}^P\\frac{(2^{rel_i} - 1)}{\\log_2(i+1)}, $$\n",
    "\n",
    "где $P$ — число документов в поисковой выдаче, $rel_i$ — релевантность (асессорская оценка) документа, находящегося на i-той позиции.\n",
    "\n",
    "*IDCG* — идеальное (наибольшее из возможных) значение *DCG*, может быть получено путем ранжирования документов по убыванию асессорских оценок.\n",
    "\n",
    "Итоговая формула для расчета *nDCG*:\n",
    "\n",
    "$$nDCG = \\frac{DCG}{IDCG} \\in [0, 1].$$\n",
    "\n",
    "Чтобы оценить значение *nDCG* на выборке $Queries$ ($nDCG_{Queries}$) размера $N$, необходимо усреднить значение *nDCG* по всем запросам  выборки:\n",
    "$$nDCG_{Queries} = \\frac{1}{N}\\sum_{q \\in Queries}nDCG(q).$$\n",
    "\n",
    "Пример реализации метрик ранжирование на python можно найти [здесь](https://gist.github.com/mblondel/7337391)."
   ]
  },
  {
   "cell_type": "markdown",
   "metadata": {},
   "source": [
    "Загрузите данные конкурса [Интернет-математика 2009](http://imat2009.yandex.ru/datasets). Там же находится описание данных. Разбейте обучающую выборку на обучение и контроль в соотношении 70 / 30. Обратите внимание на формат данных: разбивать необходимо множество запросов, а не строчки датасета."
   ]
  },
  {
   "cell_type": "code",
   "execution_count": 4,
   "metadata": {
    "collapsed": true
   },
   "outputs": [],
   "source": [
    "f = open('imat2009_learning.txt')\n",
    "data_imat = []\n",
    "for line in f:\n",
    "    data_imat.append(line)\n",
    "f.close()"
   ]
  },
  {
   "cell_type": "code",
   "execution_count": 2,
   "metadata": {
    "collapsed": true
   },
   "outputs": [],
   "source": [
    "def read_data(input_file):\n",
    "    f = open(input_file)\n",
    "    data_imat = []\n",
    "    for i, line in enumerate(f):\n",
    "        if i%10000 == 0:\n",
    "            print i\n",
    "        features = dict(re.findall(r'(\\d*)\\:(\\d*\\.\\d*)', line))\n",
    "        for key, val in features.items():\n",
    "            features[key] = float(val)\n",
    "        queryid = int(re.findall(r'#\\ (\\d*)', line)[0])\n",
    "        features['queryid'] = queryid\n",
    "        features['relevance'] = int(line[0])\n",
    "        data_imat.append(features)\n",
    "    f.close()\n",
    "    result = pd.DataFrame(data_imat)\n",
    "    return result\n",
    "\n",
    "\n",
    "def dcg_score(y_true, y_score, k=10, gains=\"exponential\"):\n",
    "    \"\"\"Discounted cumulative gain (DCG) at rank k\n",
    "    Parameters\n",
    "    ----------\n",
    "    y_true : array-like, shape = [n_samples]\n",
    "        Ground truth (true relevance labels).\n",
    "    y_score : array-like, shape = [n_samples]\n",
    "        Predicted scores.\n",
    "    k : int\n",
    "        Rank.\n",
    "    gains : str\n",
    "        Whether gains should be \"exponential\" (default) or \"linear\".\n",
    "    Returns\n",
    "    -------\n",
    "    DCG @k : float\n",
    "    \"\"\"\n",
    "    order = np.argsort(y_score)[::-1]\n",
    "    y_true = np.take(y_true, order[:k])\n",
    "\n",
    "    if gains == \"exponential\":\n",
    "        gains = 2 ** y_true - 1\n",
    "    elif gains == \"linear\":\n",
    "        gains = y_true\n",
    "    else:\n",
    "        raise ValueError(\"Invalid gains option.\")\n",
    "\n",
    "    # highest rank is 1 so +2 instead of +1\n",
    "    discounts = np.log2(np.arange(len(y_true)) + 2)\n",
    "    return np.sum(gains / discounts)\n",
    "\n",
    "\n",
    "def ndcg_score(y_true, y_score, k=10, gains=\"exponential\"):\n",
    "    \"\"\"Normalized discounted cumulative gain (NDCG) at rank k\n",
    "    Parameters\n",
    "    ----------\n",
    "    y_true : array-like, shape = [n_samples]\n",
    "        Ground truth (true relevance labels).\n",
    "    y_score : array-like, shape = [n_samples]\n",
    "        Predicted scores.\n",
    "    k : int\n",
    "        Rank.\n",
    "    gains : str\n",
    "        Whether gains should be \"exponential\" (default) or \"linear\".\n",
    "    Returns\n",
    "    -------\n",
    "    NDCG @k : float\n",
    "    \"\"\"\n",
    "    best = dcg_score(y_true, y_true, k, gains)\n",
    "    actual = dcg_score(y_true, y_score, k, gains)\n",
    "    return actual / best"
   ]
  },
  {
   "cell_type": "code",
   "execution_count": 3,
   "metadata": {
    "collapsed": false,
    "scrolled": true
   },
   "outputs": [
    {
     "name": "stdout",
     "output_type": "stream",
     "text": [
      "0\n",
      "10000\n",
      "20000\n",
      "30000\n",
      "40000\n",
      "50000\n",
      "60000\n",
      "70000\n",
      "80000\n",
      "90000\n"
     ]
    }
   ],
   "source": [
    "df = read_data('imat2009_learning.txt')"
   ]
  },
  {
   "cell_type": "code",
   "execution_count": 4,
   "metadata": {
    "collapsed": false
   },
   "outputs": [],
   "source": [
    "df.fillna(0, inplace=True)"
   ]
  },
  {
   "cell_type": "code",
   "execution_count": 5,
   "metadata": {
    "collapsed": false
   },
   "outputs": [
    {
     "data": {
      "text/html": [
       "<div>\n",
       "<table border=\"1\" class=\"dataframe\">\n",
       "  <thead>\n",
       "    <tr style=\"text-align: right;\">\n",
       "      <th></th>\n",
       "      <th>1</th>\n",
       "      <th>10</th>\n",
       "      <th>100</th>\n",
       "      <th>101</th>\n",
       "      <th>102</th>\n",
       "      <th>103</th>\n",
       "      <th>104</th>\n",
       "      <th>105</th>\n",
       "      <th>106</th>\n",
       "      <th>107</th>\n",
       "      <th>...</th>\n",
       "      <th>92</th>\n",
       "      <th>93</th>\n",
       "      <th>94</th>\n",
       "      <th>95</th>\n",
       "      <th>96</th>\n",
       "      <th>97</th>\n",
       "      <th>98</th>\n",
       "      <th>99</th>\n",
       "      <th>queryid</th>\n",
       "      <th>relevance</th>\n",
       "    </tr>\n",
       "  </thead>\n",
       "  <tbody>\n",
       "    <tr>\n",
       "      <th>5</th>\n",
       "      <td>0.000000</td>\n",
       "      <td>0.000000</td>\n",
       "      <td>0.999999</td>\n",
       "      <td>0.000000</td>\n",
       "      <td>1</td>\n",
       "      <td>1.000000</td>\n",
       "      <td>1</td>\n",
       "      <td>0.411765</td>\n",
       "      <td>0</td>\n",
       "      <td>0</td>\n",
       "      <td>...</td>\n",
       "      <td>1.00000</td>\n",
       "      <td>1</td>\n",
       "      <td>0.000000</td>\n",
       "      <td>0.027451</td>\n",
       "      <td>0</td>\n",
       "      <td>0.000000</td>\n",
       "      <td>0.131557</td>\n",
       "      <td>0</td>\n",
       "      <td>3382</td>\n",
       "      <td>1</td>\n",
       "    </tr>\n",
       "    <tr>\n",
       "      <th>6</th>\n",
       "      <td>0.000000</td>\n",
       "      <td>0.000000</td>\n",
       "      <td>0.000000</td>\n",
       "      <td>0.000000</td>\n",
       "      <td>1</td>\n",
       "      <td>0.894118</td>\n",
       "      <td>1</td>\n",
       "      <td>0.756863</td>\n",
       "      <td>0</td>\n",
       "      <td>0</td>\n",
       "      <td>...</td>\n",
       "      <td>0.00000</td>\n",
       "      <td>1</td>\n",
       "      <td>0.000000</td>\n",
       "      <td>0.023529</td>\n",
       "      <td>0</td>\n",
       "      <td>0.000000</td>\n",
       "      <td>0.139158</td>\n",
       "      <td>0</td>\n",
       "      <td>3382</td>\n",
       "      <td>1</td>\n",
       "    </tr>\n",
       "    <tr>\n",
       "      <th>7</th>\n",
       "      <td>0.000620</td>\n",
       "      <td>0.009007</td>\n",
       "      <td>0.016971</td>\n",
       "      <td>0.011530</td>\n",
       "      <td>1</td>\n",
       "      <td>1.000000</td>\n",
       "      <td>0</td>\n",
       "      <td>0.847059</td>\n",
       "      <td>0</td>\n",
       "      <td>0</td>\n",
       "      <td>...</td>\n",
       "      <td>0.87425</td>\n",
       "      <td>1</td>\n",
       "      <td>0.605714</td>\n",
       "      <td>0.007843</td>\n",
       "      <td>0</td>\n",
       "      <td>0.000027</td>\n",
       "      <td>0.500000</td>\n",
       "      <td>0</td>\n",
       "      <td>11800</td>\n",
       "      <td>1</td>\n",
       "    </tr>\n",
       "    <tr>\n",
       "      <th>8</th>\n",
       "      <td>0.000037</td>\n",
       "      <td>0.000000</td>\n",
       "      <td>0.267807</td>\n",
       "      <td>0.000000</td>\n",
       "      <td>1</td>\n",
       "      <td>0.000000</td>\n",
       "      <td>0</td>\n",
       "      <td>0.176471</td>\n",
       "      <td>0</td>\n",
       "      <td>0</td>\n",
       "      <td>...</td>\n",
       "      <td>0.89091</td>\n",
       "      <td>0</td>\n",
       "      <td>0.111111</td>\n",
       "      <td>0.015686</td>\n",
       "      <td>0</td>\n",
       "      <td>0.000000</td>\n",
       "      <td>0.000000</td>\n",
       "      <td>0</td>\n",
       "      <td>11800</td>\n",
       "      <td>0</td>\n",
       "    </tr>\n",
       "    <tr>\n",
       "      <th>9</th>\n",
       "      <td>0.000000</td>\n",
       "      <td>0.000000</td>\n",
       "      <td>0.000000</td>\n",
       "      <td>0.009167</td>\n",
       "      <td>1</td>\n",
       "      <td>0.086274</td>\n",
       "      <td>0</td>\n",
       "      <td>0.803922</td>\n",
       "      <td>0</td>\n",
       "      <td>0</td>\n",
       "      <td>...</td>\n",
       "      <td>0.00000</td>\n",
       "      <td>0</td>\n",
       "      <td>0.000000</td>\n",
       "      <td>0.035294</td>\n",
       "      <td>0</td>\n",
       "      <td>0.000000</td>\n",
       "      <td>0.000000</td>\n",
       "      <td>0</td>\n",
       "      <td>11800</td>\n",
       "      <td>0</td>\n",
       "    </tr>\n",
       "  </tbody>\n",
       "</table>\n",
       "<p>5 rows × 247 columns</p>\n",
       "</div>"
      ],
      "text/plain": [
       "          1        10       100       101  102       103  104       105  106  \\\n",
       "5  0.000000  0.000000  0.999999  0.000000    1  1.000000    1  0.411765    0   \n",
       "6  0.000000  0.000000  0.000000  0.000000    1  0.894118    1  0.756863    0   \n",
       "7  0.000620  0.009007  0.016971  0.011530    1  1.000000    0  0.847059    0   \n",
       "8  0.000037  0.000000  0.267807  0.000000    1  0.000000    0  0.176471    0   \n",
       "9  0.000000  0.000000  0.000000  0.009167    1  0.086274    0  0.803922    0   \n",
       "\n",
       "   107    ...           92  93        94        95  96        97        98  \\\n",
       "5    0    ...      1.00000   1  0.000000  0.027451   0  0.000000  0.131557   \n",
       "6    0    ...      0.00000   1  0.000000  0.023529   0  0.000000  0.139158   \n",
       "7    0    ...      0.87425   1  0.605714  0.007843   0  0.000027  0.500000   \n",
       "8    0    ...      0.89091   0  0.111111  0.015686   0  0.000000  0.000000   \n",
       "9    0    ...      0.00000   0  0.000000  0.035294   0  0.000000  0.000000   \n",
       "\n",
       "   99  queryid  relevance  \n",
       "5   0     3382          1  \n",
       "6   0     3382          1  \n",
       "7   0    11800          1  \n",
       "8   0    11800          0  \n",
       "9   0    11800          0  \n",
       "\n",
       "[5 rows x 247 columns]"
      ]
     },
     "execution_count": 5,
     "metadata": {},
     "output_type": "execute_result"
    }
   ],
   "source": [
    "df[5:10]"
   ]
  },
  {
   "cell_type": "code",
   "execution_count": 6,
   "metadata": {
    "collapsed": false,
    "scrolled": true
   },
   "outputs": [],
   "source": [
    "query_ids = list(set(df.queryid))\n",
    "query_number = len(query_ids)"
   ]
  },
  {
   "cell_type": "code",
   "execution_count": 7,
   "metadata": {
    "collapsed": false
   },
   "outputs": [],
   "source": [
    "train_indices, test_indices = train_test_split(query_ids, test_size=0.3, random_state=666)"
   ]
  },
  {
   "cell_type": "code",
   "execution_count": 8,
   "metadata": {
    "collapsed": false
   },
   "outputs": [],
   "source": [
    "data_train = df[df.queryid.isin(train_indices)]\n",
    "data_test = df[df.queryid.isin(test_indices)]"
   ]
  },
  {
   "cell_type": "code",
   "execution_count": 9,
   "metadata": {
    "collapsed": true
   },
   "outputs": [],
   "source": [
    "X_train = data_train.iloc[:, :-2]\n",
    "Y_train = data_train.iloc[:, -1]\n",
    "X_test = data_test.iloc[:, :-2]\n",
    "Y_test = data_test.iloc[:, -1]"
   ]
  },
  {
   "cell_type": "markdown",
   "metadata": {
    "collapsed": true
   },
   "source": [
    "Далее рассмотрим несколько подходов предсказания релевантности. Для оценивания качества моделей используйте метрику nDCG на контроле. В случае подбора гиперпараметров используйте кросс-валидацию по 5 блокам.\n",
    "\n",
    "**(1 балл)** [Point-wise](https://en.wikipedia.org/wiki/Learning_to_rank#Pointwise_approach) подход. В этом случае значение функции потерь определяется по одному объекту, например, как в случае регрессии. Воспользовавшись известными вам техниками построения линейной регрессии, обучите модель, предсказывающую оценку асессора."
   ]
  },
  {
   "cell_type": "code",
   "execution_count": 11,
   "metadata": {
    "collapsed": false
   },
   "outputs": [],
   "source": [
    "from sklearn.linear_model import LinearRegression\n",
    "from sklearn.linear_model import Ridge"
   ]
  },
  {
   "cell_type": "code",
   "execution_count": 16,
   "metadata": {
    "collapsed": true
   },
   "outputs": [],
   "source": [
    "clf_linear = LinearRegression()\n",
    "clf_linear.fit(X_train, Y_train)\n",
    "y_pred = clf_linear.predict(X_test)"
   ]
  },
  {
   "cell_type": "code",
   "execution_count": 93,
   "metadata": {
    "collapsed": false
   },
   "outputs": [],
   "source": [
    "clf_linear2 = Ridge(alpha=0.1)\n",
    "clf_linear2.fit(X_train, Y_train)\n",
    "y_pred2 = clf_linear2.predict(X_test)"
   ]
  },
  {
   "cell_type": "code",
   "execution_count": 12,
   "metadata": {
    "collapsed": false
   },
   "outputs": [],
   "source": [
    "def compute_ndcg_queries(true_data, y_pred):\n",
    "    \"\"\"true_data - dataframe with 2 columns: 1. queryid, 2. relevance\n",
    "    returns mean ndcg of all queries\n",
    "    \"\"\"\n",
    "    ngcd_queries = []\n",
    "    true_data['pred'] = y_pred\n",
    "    for queryid in set(true_data.queryid):\n",
    "        temp_df = true_data[true_data.queryid == queryid]\n",
    "        ngcd_queries.append(ndcg_score(list(temp_df.relevance), list(temp_df.pred)))\n",
    "    return np.mean([x for x in ngcd_queries if pd.notnull(x)])"
   ]
  },
  {
   "cell_type": "code",
   "execution_count": 77,
   "metadata": {
    "collapsed": false
   },
   "outputs": [],
   "source": [
    "point_wise_ndcg = compute_ndcg_queries(data_test.iloc[:, -2:], y_pred)"
   ]
  },
  {
   "cell_type": "code",
   "execution_count": 78,
   "metadata": {
    "collapsed": false
   },
   "outputs": [
    {
     "data": {
      "text/plain": [
       "0.80264946652669245"
      ]
     },
     "execution_count": 78,
     "metadata": {},
     "output_type": "execute_result"
    }
   ],
   "source": [
    "point_wise_ndcg"
   ]
  },
  {
   "cell_type": "code",
   "execution_count": 94,
   "metadata": {
    "collapsed": true
   },
   "outputs": [],
   "source": [
    "point_wise_ndcg2 = compute_ndcg_queries(data_test.iloc[:, -2:], y_pred2)"
   ]
  },
  {
   "cell_type": "code",
   "execution_count": 92,
   "metadata": {
    "collapsed": false
   },
   "outputs": [
    {
     "data": {
      "text/plain": [
       "0.80269833004326119"
      ]
     },
     "execution_count": 92,
     "metadata": {},
     "output_type": "execute_result"
    }
   ],
   "source": [
    "point_wise_ndcg2"
   ]
  },
  {
   "cell_type": "markdown",
   "metadata": {},
   "source": [
    "**(1 балл)** [Pair-wise](https://en.wikipedia.org/wiki/Learning_to_rank#Pairwise_approach) подход. Здесь функция потерь вычисляется по паре объектов. Постройте ранжирующую модель при помощи [SVMlight](http://www.cs.cornell.edu/people/tj/svm_light/svm_rank.html), реализующий [Ranking SVM](https://en.wikipedia.org/wiki/Ranking_SVM)."
   ]
  },
  {
   "cell_type": "code",
   "execution_count": null,
   "metadata": {
    "collapsed": true
   },
   "outputs": [],
   "source": []
  },
  {
   "cell_type": "markdown",
   "metadata": {},
   "source": [
    "###  Ранжируем с XGBoost\n",
    "\n",
    "XGBoost имеет несколько функций потерь для решения задачи ранжирования:\n",
    "1. **reg:linear** — эта функция потерь нужна для решения задачи регрессии, тем не менее, ее можно использовать в качестве ранжирующей point-wise модели.\n",
    "2. **rank:pairwise** — в качестве pairwise модели в XGBoost реализован [RankNet](http://research.microsoft.com/en-us/um/people/cburges/papers/ICML_ranking.pdf), в котором минимизируется гладкий функционал качества ранжирования: $$ Obj = \\sum_{i \\prec j} \\mathcal{L}\\left(a(x_j) - a(x_i)\\right) \\rightarrow min $$ $$ \\mathcal{L}(M) = log(1 + e^{-M}), $$ где $ a(x) $ - функция ранжирования. Суммирование ведется по всем парам объектов, для которых определено отношение порядка, например, для пар документов, показанных по одному запросу. Таким образом функция потерь штрафует за то, что пара объектов неправильно упорядочена.\n",
    "3. **rank:map, rank:ndcg** — реализация [LambdaRank](http://research.microsoft.com/en-us/um/people/cburges/papers/lambdarank.pdf) для двух метрик: [MAP](https://www.kaggle.com/wiki/MeanAveragePrecision) и **nDCG**. Известно, что для того, чтобы оптимизировать негладкий функционал, такой как **nDCG**,  нужно домножить градиент функционала $ Obj(a) $ на значение $\\Delta NDCG_{ij} $ — изменение значения функционала качества при замене $x_i$ на $ x_j$.  Поскольку для вычисления метрик необходимы все объекты выборки, то эти две ранжирующие функции потерь являются представителями класса [list-wise](https://en.wikipedia.org/wiki/Learning_to_rank#Listwise_approach) моделей."
   ]
  },
  {
   "cell_type": "markdown",
   "metadata": {},
   "source": [
    "**(1 балл)** Обучите модели **rank:pairwise** и **rank:ndcg**, в качестве метрики оценки качества (*eval_metric*) используя *nDCG*, а в качестве бустера решающее дерево. Рассмотрите различные [параметры](https://github.com/dmlc/xgboost/blob/master/doc/parameter.md) бустера: *eta*, *gamma*, *tree_method*. Какие параметры сильнее всего влияют на качество?"
   ]
  },
  {
   "cell_type": "code",
   "execution_count": 34,
   "metadata": {
    "collapsed": false
   },
   "outputs": [],
   "source": [
    "def get_params():\n",
    "    params = {}\n",
    "    params[\"objective\"] = \"rank:pairwise\"\n",
    "    params[\"booster\"] = \"gbtree\"\n",
    "    params[\"eval_metric\"] = \"ndcg\"\n",
    "    return params"
   ]
  },
  {
   "cell_type": "code",
   "execution_count": 13,
   "metadata": {
    "collapsed": true
   },
   "outputs": [],
   "source": [
    "params = get_params()\n",
    "xgtrain = xgb.DMatrix(X_train.as_matrix(), label=Y_train.as_matrix())"
   ]
  },
  {
   "cell_type": "code",
   "execution_count": 13,
   "metadata": {
    "collapsed": false
   },
   "outputs": [
    {
     "name": "stdout",
     "output_type": "stream",
     "text": [
      "nDCG on rank:pairwise XGBoost (default params) =  [0]\teval-:0.904798\n"
     ]
    }
   ],
   "source": [
    "xgtest = xgb.DMatrix(X_test.as_matrix(), label=Y_test.as_matrix())\n",
    "bst = xgb.train(params, xgtrain)\n",
    "print \"nDCG on rank:pairwise XGBoost (default params) = \", bst.eval(xgtest)"
   ]
  },
  {
   "cell_type": "code",
   "execution_count": 15,
   "metadata": {
    "collapsed": false
   },
   "outputs": [
    {
     "name": "stdout",
     "output_type": "stream",
     "text": [
      "nDCG on rank:ndcg XGBoost (default params) =  [0]\teval-:0.837299\n"
     ]
    }
   ],
   "source": [
    "params[\"objective\"] = \"rank:ndcg\"\n",
    "xgtest = xgb.DMatrix(X_test.as_matrix(), label=Y_test.as_matrix())\n",
    "bst = xgb.train(params, xgtrain)\n",
    "print \"nDCG on rank:ndcg XGBoost (default params) = \", bst.eval(xgtest)"
   ]
  },
  {
   "cell_type": "markdown",
   "metadata": {},
   "source": [
    "Видим, что модель rank:pairwise лучше, чем модель rank:ndcg XGBoost."
   ]
  },
  {
   "cell_type": "markdown",
   "metadata": {},
   "source": [
    "Попробуем рассмотреть различные параметры:"
   ]
  },
  {
   "cell_type": "markdown",
   "metadata": {},
   "source": [
    "### eta"
   ]
  },
  {
   "cell_type": "code",
   "execution_count": 21,
   "metadata": {
    "collapsed": false
   },
   "outputs": [
    {
     "name": "stdout",
     "output_type": "stream",
     "text": [
      "nDCG on rank:pairwise XGBoost (eta = 0.1) = [0]\teval-:0.883875\n",
      "nDCG on rank:pairwise XGBoost (eta = 0.2) = [0]\teval-:0.896196\n",
      "nDCG on rank:pairwise XGBoost (eta = 0.3) = [0]\teval-:0.904798\n",
      "nDCG on rank:pairwise XGBoost (eta = 0.4) = [0]\teval-:0.908037\n",
      "nDCG on rank:pairwise XGBoost (eta = 0.5) = [0]\teval-:0.908829\n",
      "nDCG on rank:pairwise XGBoost (eta = 0.6) = [0]\teval-:0.903092\n",
      "nDCG on rank:pairwise XGBoost (eta = 0.7) = [0]\teval-:0.905758\n",
      "nDCG on rank:pairwise XGBoost (eta = 0.8) = [0]\teval-:0.917743\n",
      "nDCG on rank:pairwise XGBoost (eta = 0.9) = [0]\teval-:0.915681\n"
     ]
    }
   ],
   "source": [
    "params[\"objective\"] = \"rank:pairwise\"\n",
    "for eta in np.arange(0.1, 1, 0.1):\n",
    "    params['eta'] = eta\n",
    "    xgtest = xgb.DMatrix(X_test.as_matrix(), label=Y_test.as_matrix())\n",
    "    bst = xgb.train(params, xgtrain)\n",
    "    print \"nDCG on rank:pairwise XGBoost (eta = %0.1f) = %s\" % (eta, bst.eval(xgtest))"
   ]
  },
  {
   "cell_type": "code",
   "execution_count": 22,
   "metadata": {
    "collapsed": false
   },
   "outputs": [
    {
     "name": "stdout",
     "output_type": "stream",
     "text": [
      "nDCG on rank:ndcg XGBoost (eta = 0.1) = [0]\teval-:0.837299\n",
      "nDCG on rank:ndcg XGBoost (eta = 0.2) = [0]\teval-:0.837299\n",
      "nDCG on rank:ndcg XGBoost (eta = 0.3) = [0]\teval-:0.837299\n",
      "nDCG on rank:ndcg XGBoost (eta = 0.4) = [0]\teval-:0.837299\n",
      "nDCG on rank:ndcg XGBoost (eta = 0.5) = [0]\teval-:0.837299\n",
      "nDCG on rank:ndcg XGBoost (eta = 0.6) = [0]\teval-:0.837299\n",
      "nDCG on rank:ndcg XGBoost (eta = 0.7) = [0]\teval-:0.837299\n",
      "nDCG on rank:ndcg XGBoost (eta = 0.8) = [0]\teval-:0.837299\n",
      "nDCG on rank:ndcg XGBoost (eta = 0.9) = [0]\teval-:0.837299\n"
     ]
    }
   ],
   "source": [
    "params[\"objective\"] = \"rank:ndcg\"\n",
    "for eta in np.arange(0.1, 1, 0.1):\n",
    "    params['eta'] = eta\n",
    "    xgtest = xgb.DMatrix(X_test.as_matrix(), label=Y_test.as_matrix())\n",
    "    bst = xgb.train(params, xgtrain)\n",
    "    print \"nDCG on rank:ndcg XGBoost (eta = %0.1f) = %s\" % (eta, bst.eval(xgtest))"
   ]
  },
  {
   "cell_type": "markdown",
   "metadata": {},
   "source": [
    "### gamma"
   ]
  },
  {
   "cell_type": "code",
   "execution_count": 35,
   "metadata": {
    "collapsed": true
   },
   "outputs": [],
   "source": [
    "params = get_params()"
   ]
  },
  {
   "cell_type": "code",
   "execution_count": 36,
   "metadata": {
    "collapsed": false
   },
   "outputs": [
    {
     "name": "stdout",
     "output_type": "stream",
     "text": [
      "nDCG on rank:pairwise XGBoost (gamma = 5.0) = [0]\teval-:0.901234\n",
      "nDCG on rank:pairwise XGBoost (gamma = 7.0) = [0]\teval-:0.905545\n",
      "nDCG on rank:pairwise XGBoost (gamma = 10.0) = [0]\teval-:0.897880\n",
      "nDCG on rank:pairwise XGBoost (gamma = 15.0) = [0]\teval-:0.893919\n",
      "nDCG on rank:pairwise XGBoost (gamma = 20.0) = [0]\teval-:0.896912\n",
      "nDCG on rank:pairwise XGBoost (gamma = 50.0) = [0]\teval-:0.890988\n",
      "nDCG on rank:pairwise XGBoost (gamma = 100.0) = [0]\teval-:0.889311\n"
     ]
    }
   ],
   "source": [
    "params[\"objective\"] = \"rank:pairwise\"\n",
    "for gamma in [5, 7, 10, 15, 20, 50, 100]:\n",
    "    params['gamma'] = gamma\n",
    "    xgtest = xgb.DMatrix(X_test.as_matrix(), label=Y_test.as_matrix())\n",
    "    bst = xgb.train(params, xgtrain)\n",
    "    print \"nDCG on rank:pairwise XGBoost (gamma = %0.1f) = %s\" % (gamma, bst.eval(xgtest))"
   ]
  },
  {
   "cell_type": "code",
   "execution_count": 37,
   "metadata": {
    "collapsed": false
   },
   "outputs": [
    {
     "name": "stdout",
     "output_type": "stream",
     "text": [
      "nDCG on rank:ndcg XGBoost (gamma = 5.0) = [0]\teval-:0.837299\n",
      "nDCG on rank:ndcg XGBoost (gamma = 7.0) = [0]\teval-:0.837299\n",
      "nDCG on rank:ndcg XGBoost (gamma = 10.0) = [0]\teval-:0.837299\n",
      "nDCG on rank:ndcg XGBoost (gamma = 15.0) = [0]\teval-:0.837299\n",
      "nDCG on rank:ndcg XGBoost (gamma = 20.0) = [0]\teval-:0.837299\n",
      "nDCG on rank:ndcg XGBoost (gamma = 50.0) = [0]\teval-:0.837299\n",
      "nDCG on rank:ndcg XGBoost (gamma = 100.0) = [0]\teval-:0.837299\n"
     ]
    }
   ],
   "source": [
    "params = get_params()\n",
    "params[\"objective\"] = \"rank:ndcg\"\n",
    "for gamma in [5, 7, 10, 15, 20, 50, 100]:\n",
    "    params['gamma'] = gamma\n",
    "    xgtest = xgb.DMatrix(X_test.as_matrix(), label=Y_test.as_matrix())\n",
    "    bst = xgb.train(params, xgtrain)\n",
    "    print \"nDCG on rank:ndcg XGBoost (gamma = %0.1f) = %s\" % (gamma, bst.eval(xgtest))"
   ]
  },
  {
   "cell_type": "markdown",
   "metadata": {},
   "source": [
    "### tree_method"
   ]
  },
  {
   "cell_type": "code",
   "execution_count": 27,
   "metadata": {
    "collapsed": true
   },
   "outputs": [],
   "source": [
    "tree_methods = ['auto', 'exact', 'approx']"
   ]
  },
  {
   "cell_type": "code",
   "execution_count": 38,
   "metadata": {
    "collapsed": false
   },
   "outputs": [
    {
     "name": "stdout",
     "output_type": "stream",
     "text": [
      "nDCG on rank:pairwise XGBoost (method = auto) = [0]\teval-:0.904798\n",
      "nDCG on rank:pairwise XGBoost (method = exact) = [0]\teval-:0.904798\n",
      "nDCG on rank:pairwise XGBoost (method = approx) = [0]\teval-:0.904798\n"
     ]
    }
   ],
   "source": [
    "params = get_params()\n",
    "params[\"objective\"] = \"rank:pairwise\"\n",
    "for method in tree_methods:\n",
    "    params['tree_method'] = method\n",
    "    xgtest = xgb.DMatrix(X_test.as_matrix(), label=Y_test.as_matrix())\n",
    "    bst = xgb.train(params, xgtrain)\n",
    "    print \"nDCG on rank:pairwise XGBoost (method = %s) = %s\" % (method, bst.eval(xgtest))"
   ]
  },
  {
   "cell_type": "code",
   "execution_count": 39,
   "metadata": {
    "collapsed": false
   },
   "outputs": [
    {
     "name": "stdout",
     "output_type": "stream",
     "text": [
      "nDCG on rank:ndcg XGBoost (method = auto) = [0]\teval-:0.837299\n",
      "nDCG on rank:ndcg XGBoost (method = exact) = [0]\teval-:0.837299\n",
      "nDCG on rank:ndcg XGBoost (method = approx) = [0]\teval-:0.837299\n"
     ]
    }
   ],
   "source": [
    "params = get_params()\n",
    "params[\"objective\"] = \"rank:ndcg\"\n",
    "for method in tree_methods:\n",
    "    params['tree_method'] = method\n",
    "    xgtest = xgb.DMatrix(X_test.as_matrix(), label=Y_test.as_matrix())\n",
    "    bst = xgb.train(params, xgtrain)\n",
    "    print \"nDCG on rank:ndcg XGBoost (method = %s) = %s\" % (method, bst.eval(xgtest))"
   ]
  },
  {
   "cell_type": "markdown",
   "metadata": {},
   "source": [
    "В случае модели rank:pairwise сильнее всего влияют на качество параметры: eta и gammma. Параметр tree_method никак не повлиял на качество. \n",
    "\n",
    "В случае модели rank:ndcg никакие параметры не повлияли на качество."
   ]
  },
  {
   "cell_type": "code",
   "execution_count": null,
   "metadata": {
    "collapsed": true
   },
   "outputs": [],
   "source": []
  }
 ],
 "metadata": {
  "kernelspec": {
   "display_name": "Python 3",
   "language": "python",
   "name": "python3"
  },
  "language_info": {
   "codemirror_mode": {
    "name": "ipython",
    "version": 3
   },
   "file_extension": ".py",
   "mimetype": "text/x-python",
   "name": "python",
   "nbconvert_exporter": "python",
   "pygments_lexer": "ipython3",
   "version": "3.6.0"
  }
 },
 "nbformat": 4,
 "nbformat_minor": 0
}
